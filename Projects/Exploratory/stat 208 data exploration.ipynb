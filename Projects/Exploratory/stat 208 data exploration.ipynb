{
 "cells": [
  {
   "cell_type": "code",
   "execution_count": 1,
   "metadata": {
    "collapsed": true
   },
   "outputs": [],
   "source": [
    "import pandas as pd"
   ]
  },
  {
   "cell_type": "code",
   "execution_count": 2,
   "metadata": {
    "collapsed": false
   },
   "outputs": [],
   "source": [
    "train=pd.read_csv(\"C:\\\\Users\\\\aran\\\\Documents\\\\train_users_2.csv\\\\train_users_2.csv\")"
   ]
  },
  {
   "cell_type": "code",
   "execution_count": 4,
   "metadata": {
    "collapsed": true
   },
   "outputs": [],
   "source": [
    "session=pd.read_csv(\"C:\\\\Users\\\\aran\\\\Documents\\\\sessions.csv\\sessions.csv\")"
   ]
  },
  {
   "cell_type": "code",
   "execution_count": 6,
   "metadata": {
    "collapsed": false
   },
   "outputs": [],
   "source": [
    "user_id=set(session['user_id'])"
   ]
  },
  {
   "cell_type": "code",
   "execution_count": 7,
   "metadata": {
    "collapsed": false
   },
   "outputs": [],
   "source": [
    "tr_in_s=[x in user_id for x in train['id']]"
   ]
  },
  {
   "cell_type": "code",
   "execution_count": 8,
   "metadata": {
    "collapsed": false
   },
   "outputs": [],
   "source": [
    "tr_sub=train[tr_in_s]"
   ]
  },
  {
   "cell_type": "code",
   "execution_count": 9,
   "metadata": {
    "collapsed": false
   },
   "outputs": [],
   "source": [
    "import collections as cls"
   ]
  },
  {
   "cell_type": "code",
   "execution_count": 32,
   "metadata": {
    "collapsed": true
   },
   "outputs": [],
   "source": [
    "import matplotlib.pyplot as plt"
   ]
  },
  {
   "cell_type": "code",
   "execution_count": 26,
   "metadata": {
    "collapsed": false
   },
   "outputs": [
    {
     "name": "stderr",
     "output_type": "stream",
     "text": [
      "C:\\Users\\aran\\Anaconda3\\lib\\site-packages\\matplotlib\\__init__.py:872: UserWarning: axes.color_cycle is deprecated and replaced with axes.prop_cycle; please use the latter.\n",
      "  warnings.warn(self.msg_depr % (key, alt_key))\n"
     ]
    }
   ],
   "source": [
    "import seaborn as sns"
   ]
  },
  {
   "cell_type": "code",
   "execution_count": 12,
   "metadata": {
    "collapsed": false
   },
   "outputs": [],
   "source": [
    "date_cr_counts=cls.Counter(tr_sub['date_account_created'])"
   ]
  },
  {
   "cell_type": "code",
   "execution_count": 14,
   "metadata": {
    "collapsed": false
   },
   "outputs": [
    {
     "data": {
      "text/plain": [
       "[('2014-05-13', 668),\n",
       " ('2014-06-24', 668),\n",
       " ('2014-06-25', 632),\n",
       " ('2014-05-20', 621),\n",
       " ('2014-05-14', 620),\n",
       " ('2014-06-03', 600),\n",
       " ('2014-05-21', 598),\n",
       " ('2014-06-16', 594),\n",
       " ('2014-06-11', 591),\n",
       " ('2014-05-28', 587),\n",
       " ('2014-06-30', 585),\n",
       " ('2014-04-23', 584),\n",
       " ('2014-06-23', 583),\n",
       " ('2014-06-26', 582),\n",
       " ('2014-06-09', 573),\n",
       " ('2014-06-18', 562),\n",
       " ('2014-06-04', 560),\n",
       " ('2014-06-19', 558),\n",
       " ('2014-06-10', 553),\n",
       " ('2014-06-27', 550),\n",
       " ('2014-05-19', 548),\n",
       " ('2014-06-05', 547),\n",
       " ('2014-06-20', 541),\n",
       " ('2014-05-22', 540),\n",
       " ('2014-06-02', 533),\n",
       " ('2014-05-16', 533),\n",
       " ('2014-06-17', 531),\n",
       " ('2014-05-15', 528),\n",
       " ('2014-06-12', 522),\n",
       " ('2014-04-29', 517),\n",
       " ('2014-05-01', 511),\n",
       " ('2014-05-12', 505),\n",
       " ('2014-05-08', 505),\n",
       " ('2014-04-22', 504),\n",
       " ('2014-05-23', 502),\n",
       " ('2014-06-22', 501),\n",
       " ('2014-04-28', 499),\n",
       " ('2014-05-06', 495),\n",
       " ('2014-06-13', 495),\n",
       " ('2014-05-05', 491),\n",
       " ('2014-03-26', 486),\n",
       " ('2014-06-29', 480),\n",
       " ('2014-04-24', 477),\n",
       " ('2014-05-07', 475),\n",
       " ('2014-05-30', 474),\n",
       " ('2014-01-14', 474),\n",
       " ('2014-04-02', 470),\n",
       " ('2014-05-27', 469),\n",
       " ('2014-03-18', 468),\n",
       " ('2014-04-16', 463),\n",
       " ('2014-06-28', 459),\n",
       " ('2014-03-24', 454),\n",
       " ('2014-04-09', 453),\n",
       " ('2014-04-30', 452),\n",
       " ('2014-05-18', 451),\n",
       " ('2014-04-15', 445),\n",
       " ('2014-05-02', 443),\n",
       " ('2014-04-14', 442),\n",
       " ('2014-04-21', 441),\n",
       " ('2014-05-09', 436),\n",
       " ('2014-04-08', 436),\n",
       " ('2014-04-25', 433),\n",
       " ('2014-04-07', 432),\n",
       " ('2014-02-25', 429),\n",
       " ('2014-06-06', 428),\n",
       " ('2014-03-11', 428),\n",
       " ('2014-04-03', 428),\n",
       " ('2014-01-16', 426),\n",
       " ('2014-06-21', 424),\n",
       " ('2014-03-05', 424),\n",
       " ('2014-06-08', 421),\n",
       " ('2014-01-09', 412),\n",
       " ('2014-03-12', 412),\n",
       " ('2014-04-10', 411),\n",
       " ('2014-01-15', 409),\n",
       " ('2014-03-31', 409),\n",
       " ('2014-04-17', 407),\n",
       " ('2014-03-19', 406),\n",
       " ('2014-04-11', 402),\n",
       " ('2014-05-24', 402),\n",
       " ('2014-01-29', 400),\n",
       " ('2014-06-15', 398),\n",
       " ('2014-03-17', 396),\n",
       " ('2014-06-01', 395),\n",
       " ('2014-05-31', 394),\n",
       " ('2014-03-27', 394),\n",
       " ('2014-01-17', 392),\n",
       " ('2014-03-04', 391),\n",
       " ('2014-04-04', 390),\n",
       " ('2014-02-20', 390),\n",
       " ('2014-06-14', 389),\n",
       " ('2014-06-07', 387),\n",
       " ('2014-05-04', 386),\n",
       " ('2014-02-24', 385),\n",
       " ('2014-02-06', 384),\n",
       " ('2014-03-20', 384),\n",
       " ('2014-02-10', 382),\n",
       " ('2014-01-21', 381),\n",
       " ('2014-04-01', 379),\n",
       " ('2014-04-27', 378),\n",
       " ('2014-05-29', 378),\n",
       " ('2014-02-04', 378),\n",
       " ('2014-03-13', 377),\n",
       " ('2014-03-10', 376),\n",
       " ('2014-05-17', 376),\n",
       " ('2014-01-10', 375),\n",
       " ('2014-05-03', 372),\n",
       " ('2014-02-12', 372),\n",
       " ('2014-05-26', 372),\n",
       " ('2014-02-27', 371),\n",
       " ('2014-04-18', 371),\n",
       " ('2014-02-26', 370),\n",
       " ('2014-01-13', 369),\n",
       " ('2014-03-28', 369),\n",
       " ('2014-04-26', 368),\n",
       " ('2014-01-30', 365),\n",
       " ('2014-03-07', 365),\n",
       " ('2014-01-22', 363),\n",
       " ('2014-01-23', 362),\n",
       " ('2014-02-18', 360),\n",
       " ('2014-03-06', 357),\n",
       " ('2014-03-21', 356),\n",
       " ('2014-02-05', 354),\n",
       " ('2014-05-11', 354),\n",
       " ('2014-02-11', 352),\n",
       " ('2014-03-14', 351),\n",
       " ('2014-02-19', 351),\n",
       " ('2014-04-12', 347),\n",
       " ('2014-04-20', 345),\n",
       " ('2014-01-06', 341),\n",
       " ('2014-02-28', 339),\n",
       " ('2014-01-24', 339),\n",
       " ('2014-01-28', 339),\n",
       " ('2014-02-13', 339),\n",
       " ('2014-01-20', 337),\n",
       " ('2014-02-14', 337),\n",
       " ('2014-02-17', 337),\n",
       " ('2014-01-27', 335),\n",
       " ('2014-04-13', 331),\n",
       " ('2014-01-08', 331),\n",
       " ('2014-05-10', 329),\n",
       " ('2014-03-30', 329),\n",
       " ('2014-03-23', 328),\n",
       " ('2014-05-25', 326),\n",
       " ('2014-04-06', 324),\n",
       " ('2014-01-07', 322),\n",
       " ('2014-04-05', 321),\n",
       " ('2014-01-03', 320),\n",
       " ('2014-01-31', 319),\n",
       " ('2014-03-16', 319),\n",
       " ('2014-04-19', 318),\n",
       " ('2014-03-02', 318),\n",
       " ('2014-02-07', 312),\n",
       " ('2014-02-03', 311),\n",
       " ('2014-03-03', 310),\n",
       " ('2014-03-22', 306),\n",
       " ('2014-01-02', 305),\n",
       " ('2014-02-21', 303),\n",
       " ('2014-03-09', 300),\n",
       " ('2014-03-08', 298),\n",
       " ('2014-03-29', 297),\n",
       " ('2014-03-15', 297),\n",
       " ('2014-01-11', 296),\n",
       " ('2014-03-25', 291),\n",
       " ('2014-02-23', 290),\n",
       " ('2014-02-09', 288),\n",
       " ('2014-02-08', 282),\n",
       " ('2014-01-12', 281),\n",
       " ('2014-03-01', 281),\n",
       " ('2014-01-18', 280),\n",
       " ('2014-01-26', 278),\n",
       " ('2014-02-22', 269),\n",
       " ('2014-02-02', 269),\n",
       " ('2014-01-05', 268),\n",
       " ('2014-02-16', 264),\n",
       " ('2014-02-15', 261),\n",
       " ('2014-01-04', 261),\n",
       " ('2014-01-25', 253),\n",
       " ('2014-01-19', 249),\n",
       " ('2014-02-01', 240),\n",
       " ('2014-01-01', 138)]"
      ]
     },
     "execution_count": 14,
     "metadata": {},
     "output_type": "execute_result"
    }
   ],
   "source": [
    "date_cr_counts.most_common()#2014-01-01-2014-06-30"
   ]
  },
  {
   "cell_type": "code",
   "execution_count": 19,
   "metadata": {
    "collapsed": false
   },
   "outputs": [
    {
     "data": {
      "text/plain": [
       "25"
      ]
     },
     "execution_count": 19,
     "metadata": {},
     "output_type": "execute_result"
    }
   ],
   "source": [
    "max(tr_sub['signup_flow'])"
   ]
  },
  {
   "cell_type": "code",
   "execution_count": 15,
   "metadata": {
    "collapsed": false
   },
   "outputs": [
    {
     "data": {
      "text/plain": [
       "0"
      ]
     },
     "execution_count": 15,
     "metadata": {},
     "output_type": "execute_result"
    }
   ],
   "source": [
    "min(tr_sub['signup_flow'])"
   ]
  },
  {
   "cell_type": "code",
   "execution_count": 16,
   "metadata": {
    "collapsed": false
   },
   "outputs": [
    {
     "data": {
      "text/plain": [
       "Counter({0: 57088, 8: 116, 12: 3942, 21: 3, 23: 2162, 24: 2160, 25: 8344})"
      ]
     },
     "execution_count": 16,
     "metadata": {},
     "output_type": "execute_result"
    }
   ],
   "source": [
    "cls.Counter(tr_sub['signup_flow'])"
   ]
  },
  {
   "cell_type": "code",
   "execution_count": 27,
   "metadata": {
    "collapsed": false
   },
   "outputs": [],
   "source": [
    "signup_method=cls.Counter(tr_sub['signup_method'])"
   ]
  },
  {
   "cell_type": "code",
   "execution_count": 28,
   "metadata": {
    "collapsed": true
   },
   "outputs": [],
   "source": [
    "signup_method=pd.DataFrame.from_dict(signup_method,orient='index')"
   ]
  },
  {
   "cell_type": "code",
   "execution_count": 29,
   "metadata": {
    "collapsed": false
   },
   "outputs": [
    {
     "data": {
      "text/html": [
       "<div>\n",
       "<table border=\"1\" class=\"dataframe\">\n",
       "  <thead>\n",
       "    <tr style=\"text-align: right;\">\n",
       "      <th></th>\n",
       "      <th>0</th>\n",
       "    </tr>\n",
       "  </thead>\n",
       "  <tbody>\n",
       "    <tr>\n",
       "      <th>facebook</th>\n",
       "      <td>18136</td>\n",
       "    </tr>\n",
       "    <tr>\n",
       "      <th>basic</th>\n",
       "      <td>55135</td>\n",
       "    </tr>\n",
       "    <tr>\n",
       "      <th>google</th>\n",
       "      <td>544</td>\n",
       "    </tr>\n",
       "  </tbody>\n",
       "</table>\n",
       "</div>"
      ],
      "text/plain": [
       "              0\n",
       "facebook  18136\n",
       "basic     55135\n",
       "google      544"
      ]
     },
     "execution_count": 29,
     "metadata": {},
     "output_type": "execute_result"
    }
   ],
   "source": [
    "signup_method"
   ]
  },
  {
   "cell_type": "code",
   "execution_count": 30,
   "metadata": {
    "collapsed": true
   },
   "outputs": [],
   "source": [
    "signup_method.columns=['counts']"
   ]
  },
  {
   "cell_type": "code",
   "execution_count": 38,
   "metadata": {
    "collapsed": false
   },
   "outputs": [
    {
     "data": {
      "text/plain": [
       "Index(['facebook', 'basic', 'google'], dtype='object')"
      ]
     },
     "execution_count": 38,
     "metadata": {},
     "output_type": "execute_result"
    }
   ],
   "source": [
    "signup_method.index"
   ]
  },
  {
   "cell_type": "code",
   "execution_count": 56,
   "metadata": {
    "collapsed": false
   },
   "outputs": [
    {
     "data": {
      "text/plain": [
       "<matplotlib.text.Text at 0x2ef8933e4a8>"
      ]
     },
     "execution_count": 56,
     "metadata": {},
     "output_type": "execute_result"
    }
   ],
   "source": [
    "plt.pie(signup_method['counts'],explode=(0.1,0,0),labels=signup_method.index,autopct='%1.1f%%',colors=('yellow','green','pink'))\n",
    "plt.title('Signup Method', bbox={'facecolor':'0.8', 'pad':5})"
   ]
  },
  {
   "cell_type": "code",
   "execution_count": 57,
   "metadata": {
    "collapsed": false
   },
   "outputs": [
    {
     "data": {
      "image/png": "[encoded data removed]",
      "text/plain": [
       "<matplotlib.figure.Figure at 0x2ef8914f710>"
      ]
     },
     "metadata": {},
     "output_type": "display_data"
    }
   ],
   "source": [
    "plt.show()"
   ]
  },
  {
   "cell_type": "code",
   "execution_count": 70,
   "metadata": {
    "collapsed": false
   },
   "outputs": [],
   "source": [
    "country_destination=pd.DataFrame.from_dict(cls.Counter(tr_sub['country_destination']),orient='index')"
   ]
  },
  {
   "cell_type": "code",
   "execution_count": 73,
   "metadata": {
    "collapsed": false
   },
   "outputs": [],
   "source": [
    "country_destination['country']=country_destination.index"
   ]
  },
  {
   "cell_type": "code",
   "execution_count": 72,
   "metadata": {
    "collapsed": false
   },
   "outputs": [],
   "source": [
    "country_destination.columns=['counts']"
   ]
  },
  {
   "cell_type": "code",
   "execution_count": 74,
   "metadata": {
    "collapsed": false
   },
   "outputs": [
    {
     "data": {
      "text/html": [
       "<div>\n",
       "<table border=\"1\" class=\"dataframe\">\n",
       "  <thead>\n",
       "    <tr style=\"text-align: right;\">\n",
       "      <th></th>\n",
       "      <th>counts</th>\n",
       "      <th>country</th>\n",
       "    </tr>\n",
       "  </thead>\n",
       "  <tbody>\n",
       "    <tr>\n",
       "      <th>NDF</th>\n",
       "      <td>45041</td>\n",
       "      <td>NDF</td>\n",
       "    </tr>\n",
       "    <tr>\n",
       "      <th>AU</th>\n",
       "      <td>152</td>\n",
       "      <td>AU</td>\n",
       "    </tr>\n",
       "    <tr>\n",
       "      <th>GB</th>\n",
       "      <td>731</td>\n",
       "      <td>GB</td>\n",
       "    </tr>\n",
       "    <tr>\n",
       "      <th>NL</th>\n",
       "      <td>247</td>\n",
       "      <td>NL</td>\n",
       "    </tr>\n",
       "    <tr>\n",
       "      <th>ES</th>\n",
       "      <td>707</td>\n",
       "      <td>ES</td>\n",
       "    </tr>\n",
       "    <tr>\n",
       "      <th>other</th>\n",
       "      <td>3655</td>\n",
       "      <td>other</td>\n",
       "    </tr>\n",
       "    <tr>\n",
       "      <th>DE</th>\n",
       "      <td>250</td>\n",
       "      <td>DE</td>\n",
       "    </tr>\n",
       "    <tr>\n",
       "      <th>PT</th>\n",
       "      <td>83</td>\n",
       "      <td>PT</td>\n",
       "    </tr>\n",
       "    <tr>\n",
       "      <th>IT</th>\n",
       "      <td>979</td>\n",
       "      <td>IT</td>\n",
       "    </tr>\n",
       "    <tr>\n",
       "      <th>CA</th>\n",
       "      <td>440</td>\n",
       "      <td>CA</td>\n",
       "    </tr>\n",
       "    <tr>\n",
       "      <th>US</th>\n",
       "      <td>20095</td>\n",
       "      <td>US</td>\n",
       "    </tr>\n",
       "    <tr>\n",
       "      <th>FR</th>\n",
       "      <td>1435</td>\n",
       "      <td>FR</td>\n",
       "    </tr>\n",
       "  </tbody>\n",
       "</table>\n",
       "</div>"
      ],
      "text/plain": [
       "       counts country\n",
       "NDF     45041     NDF\n",
       "AU        152      AU\n",
       "GB        731      GB\n",
       "NL        247      NL\n",
       "ES        707      ES\n",
       "other    3655   other\n",
       "DE        250      DE\n",
       "PT         83      PT\n",
       "IT        979      IT\n",
       "CA        440      CA\n",
       "US      20095      US\n",
       "FR       1435      FR"
      ]
     },
     "execution_count": 74,
     "metadata": {},
     "output_type": "execute_result"
    }
   ],
   "source": [
    "country_destination"
   ]
  },
  {
   "cell_type": "code",
   "execution_count": 86,
   "metadata": {
    "collapsed": false
   },
   "outputs": [
    {
     "name": "stderr",
     "output_type": "stream",
     "text": [
      "C:\\Users\\aran\\Anaconda3\\lib\\site-packages\\matplotlib\\__init__.py:892: UserWarning: axes.color_cycle is deprecated and replaced with axes.prop_cycle; please use the latter.\n",
      "  warnings.warn(self.msg_depr % (key, alt_key))\n"
     ]
    },
    {
     "data": {
      "text/plain": [
       "[<matplotlib.text.Text at 0x2ef8bd23f60>,\n",
       " <matplotlib.text.Text at 0x2ef8bb898d0>]"
      ]
     },
     "execution_count": 86,
     "metadata": {},
     "output_type": "execute_result"
    }
   ],
   "source": [
    "ax = sns.barplot( x=\"country\", y=\"counts\",data=country_destination)\n",
    "ax.set(xlabel=\"country\",ylabel=\"counts\")"
   ]
  },
  {
   "cell_type": "code",
   "execution_count": 87,
   "metadata": {
    "collapsed": false
   },
   "outputs": [
    {
     "data": {
      "image/png": "[encoded data removed]",
      "text/plain": [
       "<matplotlib.figure.Figure at 0x2ef8bc3e4a8>"
      ]
     },
     "metadata": {},
     "output_type": "display_data"
    }
   ],
   "source": [
    "plt.show()"
   ]
  },
  {
   "cell_type": "code",
   "execution_count": 77,
   "metadata": {
    "collapsed": false
   },
   "outputs": [],
   "source": [
    "first_affiliate_tracked=cls.Counter(tr_sub.first_affiliate_tracked)"
   ]
  },
  {
   "cell_type": "code",
   "execution_count": 79,
   "metadata": {
    "collapsed": false
   },
   "outputs": [],
   "source": [
    "first_affiliate_tracked=pd.DataFrame.from_dict(first_affiliate_tracked,orient='index')"
   ]
  },
  {
   "cell_type": "code",
   "execution_count": 80,
   "metadata": {
    "collapsed": true
   },
   "outputs": [],
   "source": [
    "first_affiliate_tracked.columns=['counts']"
   ]
  },
  {
   "cell_type": "code",
   "execution_count": 81,
   "metadata": {
    "collapsed": true
   },
   "outputs": [],
   "source": [
    "first_affiliate_tracked['track']=first_affiliate_tracked.index"
   ]
  },
  {
   "cell_type": "code",
   "execution_count": 88,
   "metadata": {
    "collapsed": false
   },
   "outputs": [
    {
     "name": "stderr",
     "output_type": "stream",
     "text": [
      "C:\\Users\\aran\\Anaconda3\\lib\\site-packages\\matplotlib\\__init__.py:892: UserWarning: axes.color_cycle is deprecated and replaced with axes.prop_cycle; please use the latter.\n",
      "  warnings.warn(self.msg_depr % (key, alt_key))\n"
     ]
    },
    {
     "data": {
      "image/png": "[encoded data removed]",
      "text/plain": [
       "<matplotlib.figure.Figure at 0x2ef8bb969e8>"
      ]
     },
     "metadata": {},
     "output_type": "display_data"
    }
   ],
   "source": [
    "ax = sns.barplot( x=\"track\", y=\"counts\",data=first_affiliate_tracked)\n",
    "ax.set(xlabel=\"track\",ylabel=\"counts\")\n",
    "plt.show()"
   ]
  },
  {
   "cell_type": "code",
   "execution_count": 89,
   "metadata": {
    "collapsed": false
   },
   "outputs": [],
   "source": [
    "signup_app=pd.DataFrame.from_dict(cls.Counter(tr_sub.signup_app),orient='index')"
   ]
  },
  {
   "cell_type": "code",
   "execution_count": 90,
   "metadata": {
    "collapsed": true
   },
   "outputs": [],
   "source": [
    "signup_app.columns=['counts']"
   ]
  },
  {
   "cell_type": "code",
   "execution_count": 91,
   "metadata": {
    "collapsed": true
   },
   "outputs": [],
   "source": [
    "signup_app['app']=signup_app.index"
   ]
  },
  {
   "cell_type": "code",
   "execution_count": 97,
   "metadata": {
    "collapsed": false
   },
   "outputs": [
    {
     "data": {
      "text/html": [
       "<div>\n",
       "<table border=\"1\" class=\"dataframe\">\n",
       "  <thead>\n",
       "    <tr style=\"text-align: right;\">\n",
       "      <th></th>\n",
       "      <th>counts</th>\n",
       "      <th>app</th>\n",
       "    </tr>\n",
       "  </thead>\n",
       "  <tbody>\n",
       "    <tr>\n",
       "      <th>Web</th>\n",
       "      <td>57016</td>\n",
       "      <td>Web</td>\n",
       "    </tr>\n",
       "    <tr>\n",
       "      <th>iOS</th>\n",
       "      <td>10410</td>\n",
       "      <td>iOS</td>\n",
       "    </tr>\n",
       "    <tr>\n",
       "      <th>Android</th>\n",
       "      <td>3779</td>\n",
       "      <td>Android</td>\n",
       "    </tr>\n",
       "    <tr>\n",
       "      <th>Moweb</th>\n",
       "      <td>2610</td>\n",
       "      <td>Moweb</td>\n",
       "    </tr>\n",
       "  </tbody>\n",
       "</table>\n",
       "</div>"
      ],
      "text/plain": [
       "         counts      app\n",
       "Web       57016      Web\n",
       "iOS       10410      iOS\n",
       "Android    3779  Android\n",
       "Moweb      2610    Moweb"
      ]
     },
     "execution_count": 97,
     "metadata": {},
     "output_type": "execute_result"
    }
   ],
   "source": [
    "signup_app"
   ]
  },
  {
   "cell_type": "code",
   "execution_count": 99,
   "metadata": {
    "collapsed": false
   },
   "outputs": [
    {
     "data": {
      "image/png": "[encoded data removed]",
      "text/plain": [
       "<matplotlib.figure.Figure at 0x2ef8bce6550>"
      ]
     },
     "metadata": {},
     "output_type": "display_data"
    }
   ],
   "source": [
    "plt.pie(signup_app['counts'],labels=signup_app.index,autopct='%1.1f%%',colors=('yellow','green','pink','red'))\n",
    "plt.title('Signup Apps', bbox={'facecolor':'0.8', 'pad':5})\n",
    "plt.show()"
   ]
  },
  {
   "cell_type": "code",
   "execution_count": 102,
   "metadata": {
    "collapsed": false
   },
   "outputs": [],
   "source": [
    "affiliate_channel=pd.DataFrame.from_dict(cls.Counter(tr_sub.affiliate_channel),orient='index')"
   ]
  },
  {
   "cell_type": "code",
   "execution_count": 103,
   "metadata": {
    "collapsed": true
   },
   "outputs": [],
   "source": [
    "affiliate_channel.columns=['counts']"
   ]
  },
  {
   "cell_type": "code",
   "execution_count": 104,
   "metadata": {
    "collapsed": true
   },
   "outputs": [],
   "source": [
    "affiliate_channel['channel']=affiliate_channel.index"
   ]
  },
  {
   "cell_type": "code",
   "execution_count": 105,
   "metadata": {
    "collapsed": false
   },
   "outputs": [
    {
     "name": "stderr",
     "output_type": "stream",
     "text": [
      "C:\\Users\\aran\\Anaconda3\\lib\\site-packages\\matplotlib\\__init__.py:892: UserWarning: axes.color_cycle is deprecated and replaced with axes.prop_cycle; please use the latter.\n",
      "  warnings.warn(self.msg_depr % (key, alt_key))\n"
     ]
    },
    {
     "data": {
      "image/png": "[encoded data removed]",
      "text/plain": [
       "<matplotlib.figure.Figure at 0x2ef8bce6a20>"
      ]
     },
     "metadata": {},
     "output_type": "display_data"
    }
   ],
   "source": [
    "ax = sns.barplot( x='channel', y='counts',data=affiliate_channel)\n",
    "ax.set(xlabel=\"channel\",ylabel=\"counts\")\n",
    "plt.show()"
   ]
  },
  {
   "cell_type": "code",
   "execution_count": 22,
   "metadata": {
    "collapsed": false
   },
   "outputs": [
    {
     "data": {
      "text/plain": [
       "Counter({'ca': 2,\n",
       "         'cs': 12,\n",
       "         'da': 16,\n",
       "         'de': 216,\n",
       "         'el': 9,\n",
       "         'en': 71100,\n",
       "         'es': 349,\n",
       "         'fi': 5,\n",
       "         'fr': 372,\n",
       "         'hu': 5,\n",
       "         'id': 9,\n",
       "         'is': 3,\n",
       "         'it': 133,\n",
       "         'ja': 102,\n",
       "         'ko': 386,\n",
       "         'nl': 32,\n",
       "         'no': 8,\n",
       "         'pl': 20,\n",
       "         'pt': 94,\n",
       "         'ru': 143,\n",
       "         'sv': 43,\n",
       "         'th': 12,\n",
       "         'tr': 18,\n",
       "         'zh': 726})"
      ]
     },
     "execution_count": 22,
     "metadata": {},
     "output_type": "execute_result"
    }
   ],
   "source": [
    "cls.Counter(tr_sub.language)"
   ]
  },
  {
   "cell_type": "code",
   "execution_count": 106,
   "metadata": {
    "collapsed": false
   },
   "outputs": [],
   "source": [
    "first_device_type=cls.Counter(tr_sub.first_device_type)"
   ]
  },
  {
   "cell_type": "code",
   "execution_count": 109,
   "metadata": {
    "collapsed": false
   },
   "outputs": [],
   "source": [
    "first_device_type=pd.DataFrame.from_dict(first_device_type,orient='index')"
   ]
  },
  {
   "cell_type": "code",
   "execution_count": 110,
   "metadata": {
    "collapsed": true
   },
   "outputs": [],
   "source": [
    "first_device_type.columns=['counts']"
   ]
  },
  {
   "cell_type": "code",
   "execution_count": 114,
   "metadata": {
    "collapsed": true
   },
   "outputs": [],
   "source": [
    "first_device_type['device']=first_device_type.index"
   ]
  },
  {
   "cell_type": "code",
   "execution_count": 118,
   "metadata": {
    "collapsed": false
   },
   "outputs": [
    {
     "name": "stderr",
     "output_type": "stream",
     "text": [
      "C:\\Users\\aran\\Anaconda3\\lib\\site-packages\\matplotlib\\__init__.py:892: UserWarning: axes.color_cycle is deprecated and replaced with axes.prop_cycle; please use the latter.\n",
      "  warnings.warn(self.msg_depr % (key, alt_key))\n"
     ]
    },
    {
     "data": {
      "image/png": "[encoded data removed]",
      "text/plain": [
       "<matplotlib.figure.Figure at 0x2ef8bb159e8>"
      ]
     },
     "metadata": {},
     "output_type": "display_data"
    }
   ],
   "source": [
    "ax = sns.barplot( x='counts', y='device',data=first_device_type)\n",
    "ax.set(xlabel=\"counts\",ylabel=\"device\")\n",
    "plt.show()"
   ]
  },
  {
   "cell_type": "code",
   "execution_count": 24,
   "metadata": {
    "collapsed": false
   },
   "outputs": [
    {
     "data": {
      "text/plain": [
       "Counter({'-unknown-': 12271,\n",
       "         'AOL Explorer': 32,\n",
       "         'Android Browser': 299,\n",
       "         'Apple Mail': 13,\n",
       "         'Avant Browser': 1,\n",
       "         'BlackBerry Browser': 10,\n",
       "         'Chrome': 22662,\n",
       "         'Chrome Mobile': 799,\n",
       "         'Chromium': 24,\n",
       "         'CoolNovo': 2,\n",
       "         'Firefox': 9081,\n",
       "         'Googlebot': 1,\n",
       "         'IE': 6355,\n",
       "         'IE Mobile': 20,\n",
       "         'IceDragon': 1,\n",
       "         'IceWeasel': 5,\n",
       "         'Iron': 3,\n",
       "         'Maxthon': 14,\n",
       "         'Mobile Firefox': 19,\n",
       "         'Mobile Safari': 7885,\n",
       "         'Mozilla': 1,\n",
       "         'Opera': 60,\n",
       "         'Opera Mini': 1,\n",
       "         'Outlook 2007': 1,\n",
       "         'Pale Moon': 3,\n",
       "         'RockMelt': 1,\n",
       "         'Safari': 14170,\n",
       "         'SeaMonkey': 1,\n",
       "         'Silk': 48,\n",
       "         'SiteKiosk': 9,\n",
       "         'Sogou Explorer': 13,\n",
       "         'TenFourFox': 1,\n",
       "         'TheWorld Browser': 1,\n",
       "         'Yandex.Browser': 7,\n",
       "         'wOSBrowser': 1})"
      ]
     },
     "execution_count": 24,
     "metadata": {},
     "output_type": "execute_result"
    }
   ],
   "source": [
    "cls.Counter(tr_sub.first_browser)"
   ]
  }
 ],
 "metadata": {
  "anaconda-cloud": {},
  "kernelspec": {
   "display_name": "Python [conda root]",
   "language": "python",
   "name": "conda-root-py"
  },
  "language_info": {
   "codemirror_mode": {
    "name": "ipython",
    "version": 3
   },
   "file_extension": ".py",
   "mimetype": "text/x-python",
   "name": "python",
   "nbconvert_exporter": "python",
   "pygments_lexer": "ipython3",
   "version": "3.5.2"
  }
 },
 "nbformat": 4,
 "nbformat_minor": 1
}
