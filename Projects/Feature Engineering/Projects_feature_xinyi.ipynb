{
 "cells": [
  {
   "cell_type": "code",
   "execution_count": 1,
   "metadata": {
    "collapsed": false
   },
   "outputs": [
    {
     "name": "stderr",
     "output_type": "stream",
     "text": [
      "C:\\Program Files\\Anaconda2\\lib\\site-packages\\sklearn\\cross_validation.py:44: DeprecationWarning: This module was deprecated in version 0.18 in favor of the model_selection module into which all the refactored classes and functions are moved. Also note that the interface of the new CV iterators are different from that of this module. This module will be removed in 0.20.\n",
      "  \"This module will be removed in 0.20.\", DeprecationWarning)\n"
     ]
    }
   ],
   "source": [
    "import os\n",
    "os.getcwd()\n",
    "import numpy as np\n",
    "import pandas as pd\n",
    "import pickle\n",
    "from datetime import datetime, date\n",
    "from sklearn.preprocessing import LabelEncoder\n",
    "from sklearn.cross_validation import StratifiedShuffleSplit\n",
    "from collections import Counter\n",
    "import random"
   ]
  },
  {
   "cell_type": "code",
   "execution_count": 2,
   "metadata": {
    "collapsed": false
   },
   "outputs": [
    {
     "name": "stdout",
     "output_type": "stream",
     "text": [
      "Loading raw data...\n"
     ]
    }
   ],
   "source": [
    "print('Loading raw data...')\n",
    "train_users_path='train_users_2.csv/train_users_2.csv'\n",
    "test_users_path='test_users.csv/test_users.csv'\n",
    "sessions_path='sessions.csv/sessions.csv'"
   ]
  },
  {
   "cell_type": "markdown",
   "metadata": {},
   "source": [
    "## Loading data"
   ]
  },
  {
   "cell_type": "code",
   "execution_count": 3,
   "metadata": {
    "collapsed": false
   },
   "outputs": [],
   "source": [
    "#########Loading data#############\n",
    "# train_users\n",
    "# Load the training dataset, save the destination as target\n",
    "# delete the destination from the training dataset\n",
    "df_train = pd.read_csv(train_users_path)\n",
    "target = df_train['country_destination']\n",
    "df_train = df_train.drop(['country_destination'], axis=1)"
   ]
  },
  {
   "cell_type": "code",
   "execution_count": 4,
   "metadata": {
    "collapsed": false
   },
   "outputs": [
    {
     "data": {
      "text/html": [
       "<div>\n",
       "<table border=\"1\" class=\"dataframe\">\n",
       "  <thead>\n",
       "    <tr style=\"text-align: right;\">\n",
       "      <th></th>\n",
       "      <th>id</th>\n",
       "      <th>date_account_created</th>\n",
       "      <th>timestamp_first_active</th>\n",
       "      <th>date_first_booking</th>\n",
       "      <th>gender</th>\n",
       "      <th>age</th>\n",
       "      <th>signup_method</th>\n",
       "      <th>signup_flow</th>\n",
       "      <th>language</th>\n",
       "      <th>affiliate_channel</th>\n",
       "      <th>affiliate_provider</th>\n",
       "      <th>first_affiliate_tracked</th>\n",
       "      <th>signup_app</th>\n",
       "      <th>first_device_type</th>\n",
       "      <th>first_browser</th>\n",
       "    </tr>\n",
       "  </thead>\n",
       "  <tbody>\n",
       "    <tr>\n",
       "      <th>0</th>\n",
       "      <td>gxn3p5htnn</td>\n",
       "      <td>2010-06-28</td>\n",
       "      <td>20090319043255</td>\n",
       "      <td>NaN</td>\n",
       "      <td>-unknown-</td>\n",
       "      <td>NaN</td>\n",
       "      <td>facebook</td>\n",
       "      <td>0</td>\n",
       "      <td>en</td>\n",
       "      <td>direct</td>\n",
       "      <td>direct</td>\n",
       "      <td>untracked</td>\n",
       "      <td>Web</td>\n",
       "      <td>Mac Desktop</td>\n",
       "      <td>Chrome</td>\n",
       "    </tr>\n",
       "    <tr>\n",
       "      <th>1</th>\n",
       "      <td>820tgsjxq7</td>\n",
       "      <td>2011-05-25</td>\n",
       "      <td>20090523174809</td>\n",
       "      <td>NaN</td>\n",
       "      <td>MALE</td>\n",
       "      <td>38.0</td>\n",
       "      <td>facebook</td>\n",
       "      <td>0</td>\n",
       "      <td>en</td>\n",
       "      <td>seo</td>\n",
       "      <td>google</td>\n",
       "      <td>untracked</td>\n",
       "      <td>Web</td>\n",
       "      <td>Mac Desktop</td>\n",
       "      <td>Chrome</td>\n",
       "    </tr>\n",
       "    <tr>\n",
       "      <th>2</th>\n",
       "      <td>4ft3gnwmtx</td>\n",
       "      <td>2010-09-28</td>\n",
       "      <td>20090609231247</td>\n",
       "      <td>2010-08-02</td>\n",
       "      <td>FEMALE</td>\n",
       "      <td>56.0</td>\n",
       "      <td>basic</td>\n",
       "      <td>3</td>\n",
       "      <td>en</td>\n",
       "      <td>direct</td>\n",
       "      <td>direct</td>\n",
       "      <td>untracked</td>\n",
       "      <td>Web</td>\n",
       "      <td>Windows Desktop</td>\n",
       "      <td>IE</td>\n",
       "    </tr>\n",
       "    <tr>\n",
       "      <th>3</th>\n",
       "      <td>bjjt8pjhuk</td>\n",
       "      <td>2011-12-05</td>\n",
       "      <td>20091031060129</td>\n",
       "      <td>2012-09-08</td>\n",
       "      <td>FEMALE</td>\n",
       "      <td>42.0</td>\n",
       "      <td>facebook</td>\n",
       "      <td>0</td>\n",
       "      <td>en</td>\n",
       "      <td>direct</td>\n",
       "      <td>direct</td>\n",
       "      <td>untracked</td>\n",
       "      <td>Web</td>\n",
       "      <td>Mac Desktop</td>\n",
       "      <td>Firefox</td>\n",
       "    </tr>\n",
       "    <tr>\n",
       "      <th>4</th>\n",
       "      <td>87mebub9p4</td>\n",
       "      <td>2010-09-14</td>\n",
       "      <td>20091208061105</td>\n",
       "      <td>2010-02-18</td>\n",
       "      <td>-unknown-</td>\n",
       "      <td>41.0</td>\n",
       "      <td>basic</td>\n",
       "      <td>0</td>\n",
       "      <td>en</td>\n",
       "      <td>direct</td>\n",
       "      <td>direct</td>\n",
       "      <td>untracked</td>\n",
       "      <td>Web</td>\n",
       "      <td>Mac Desktop</td>\n",
       "      <td>Chrome</td>\n",
       "    </tr>\n",
       "  </tbody>\n",
       "</table>\n",
       "</div>"
      ],
      "text/plain": [
       "           id date_account_created  timestamp_first_active date_first_booking  \\\n",
       "0  gxn3p5htnn           2010-06-28          20090319043255                NaN   \n",
       "1  820tgsjxq7           2011-05-25          20090523174809                NaN   \n",
       "2  4ft3gnwmtx           2010-09-28          20090609231247         2010-08-02   \n",
       "3  bjjt8pjhuk           2011-12-05          20091031060129         2012-09-08   \n",
       "4  87mebub9p4           2010-09-14          20091208061105         2010-02-18   \n",
       "\n",
       "      gender   age signup_method  signup_flow language affiliate_channel  \\\n",
       "0  -unknown-   NaN      facebook            0       en            direct   \n",
       "1       MALE  38.0      facebook            0       en               seo   \n",
       "2     FEMALE  56.0         basic            3       en            direct   \n",
       "3     FEMALE  42.0      facebook            0       en            direct   \n",
       "4  -unknown-  41.0         basic            0       en            direct   \n",
       "\n",
       "  affiliate_provider first_affiliate_tracked signup_app first_device_type  \\\n",
       "0             direct               untracked        Web       Mac Desktop   \n",
       "1             google               untracked        Web       Mac Desktop   \n",
       "2             direct               untracked        Web   Windows Desktop   \n",
       "3             direct               untracked        Web       Mac Desktop   \n",
       "4             direct               untracked        Web       Mac Desktop   \n",
       "\n",
       "  first_browser  \n",
       "0        Chrome  \n",
       "1        Chrome  \n",
       "2            IE  \n",
       "3       Firefox  \n",
       "4        Chrome  "
      ]
     },
     "execution_count": 4,
     "metadata": {},
     "output_type": "execute_result"
    }
   ],
   "source": [
    "df_train.head()"
   ]
  },
  {
   "cell_type": "code",
   "execution_count": 5,
   "metadata": {
    "collapsed": true
   },
   "outputs": [],
   "source": [
    "# test_users\n",
    "df_test = pd.read_csv(test_users_path)    \n",
    "id_test = df_test['id']"
   ]
  },
  {
   "cell_type": "code",
   "execution_count": 6,
   "metadata": {
    "collapsed": false
   },
   "outputs": [
    {
     "data": {
      "text/html": [
       "<div>\n",
       "<table border=\"1\" class=\"dataframe\">\n",
       "  <thead>\n",
       "    <tr style=\"text-align: right;\">\n",
       "      <th></th>\n",
       "      <th>id</th>\n",
       "      <th>date_account_created</th>\n",
       "      <th>timestamp_first_active</th>\n",
       "      <th>date_first_booking</th>\n",
       "      <th>gender</th>\n",
       "      <th>age</th>\n",
       "      <th>signup_method</th>\n",
       "      <th>signup_flow</th>\n",
       "      <th>language</th>\n",
       "      <th>affiliate_channel</th>\n",
       "      <th>affiliate_provider</th>\n",
       "      <th>first_affiliate_tracked</th>\n",
       "      <th>signup_app</th>\n",
       "      <th>first_device_type</th>\n",
       "      <th>first_browser</th>\n",
       "    </tr>\n",
       "  </thead>\n",
       "  <tbody>\n",
       "    <tr>\n",
       "      <th>0</th>\n",
       "      <td>5uwns89zht</td>\n",
       "      <td>2014-07-01</td>\n",
       "      <td>20140701000006</td>\n",
       "      <td>NaN</td>\n",
       "      <td>FEMALE</td>\n",
       "      <td>35.0</td>\n",
       "      <td>facebook</td>\n",
       "      <td>0</td>\n",
       "      <td>en</td>\n",
       "      <td>direct</td>\n",
       "      <td>direct</td>\n",
       "      <td>untracked</td>\n",
       "      <td>Moweb</td>\n",
       "      <td>iPhone</td>\n",
       "      <td>Mobile Safari</td>\n",
       "    </tr>\n",
       "    <tr>\n",
       "      <th>1</th>\n",
       "      <td>jtl0dijy2j</td>\n",
       "      <td>2014-07-01</td>\n",
       "      <td>20140701000051</td>\n",
       "      <td>NaN</td>\n",
       "      <td>-unknown-</td>\n",
       "      <td>NaN</td>\n",
       "      <td>basic</td>\n",
       "      <td>0</td>\n",
       "      <td>en</td>\n",
       "      <td>direct</td>\n",
       "      <td>direct</td>\n",
       "      <td>untracked</td>\n",
       "      <td>Moweb</td>\n",
       "      <td>iPhone</td>\n",
       "      <td>Mobile Safari</td>\n",
       "    </tr>\n",
       "    <tr>\n",
       "      <th>2</th>\n",
       "      <td>xx0ulgorjt</td>\n",
       "      <td>2014-07-01</td>\n",
       "      <td>20140701000148</td>\n",
       "      <td>NaN</td>\n",
       "      <td>-unknown-</td>\n",
       "      <td>NaN</td>\n",
       "      <td>basic</td>\n",
       "      <td>0</td>\n",
       "      <td>en</td>\n",
       "      <td>direct</td>\n",
       "      <td>direct</td>\n",
       "      <td>linked</td>\n",
       "      <td>Web</td>\n",
       "      <td>Windows Desktop</td>\n",
       "      <td>Chrome</td>\n",
       "    </tr>\n",
       "    <tr>\n",
       "      <th>3</th>\n",
       "      <td>6c6puo6ix0</td>\n",
       "      <td>2014-07-01</td>\n",
       "      <td>20140701000215</td>\n",
       "      <td>NaN</td>\n",
       "      <td>-unknown-</td>\n",
       "      <td>NaN</td>\n",
       "      <td>basic</td>\n",
       "      <td>0</td>\n",
       "      <td>en</td>\n",
       "      <td>direct</td>\n",
       "      <td>direct</td>\n",
       "      <td>linked</td>\n",
       "      <td>Web</td>\n",
       "      <td>Windows Desktop</td>\n",
       "      <td>IE</td>\n",
       "    </tr>\n",
       "    <tr>\n",
       "      <th>4</th>\n",
       "      <td>czqhjk3yfe</td>\n",
       "      <td>2014-07-01</td>\n",
       "      <td>20140701000305</td>\n",
       "      <td>NaN</td>\n",
       "      <td>-unknown-</td>\n",
       "      <td>NaN</td>\n",
       "      <td>basic</td>\n",
       "      <td>0</td>\n",
       "      <td>en</td>\n",
       "      <td>direct</td>\n",
       "      <td>direct</td>\n",
       "      <td>untracked</td>\n",
       "      <td>Web</td>\n",
       "      <td>Mac Desktop</td>\n",
       "      <td>Safari</td>\n",
       "    </tr>\n",
       "  </tbody>\n",
       "</table>\n",
       "</div>"
      ],
      "text/plain": [
       "           id date_account_created  timestamp_first_active  \\\n",
       "0  5uwns89zht           2014-07-01          20140701000006   \n",
       "1  jtl0dijy2j           2014-07-01          20140701000051   \n",
       "2  xx0ulgorjt           2014-07-01          20140701000148   \n",
       "3  6c6puo6ix0           2014-07-01          20140701000215   \n",
       "4  czqhjk3yfe           2014-07-01          20140701000305   \n",
       "\n",
       "   date_first_booking     gender   age signup_method  signup_flow language  \\\n",
       "0                 NaN     FEMALE  35.0      facebook            0       en   \n",
       "1                 NaN  -unknown-   NaN         basic            0       en   \n",
       "2                 NaN  -unknown-   NaN         basic            0       en   \n",
       "3                 NaN  -unknown-   NaN         basic            0       en   \n",
       "4                 NaN  -unknown-   NaN         basic            0       en   \n",
       "\n",
       "  affiliate_channel affiliate_provider first_affiliate_tracked signup_app  \\\n",
       "0            direct             direct               untracked      Moweb   \n",
       "1            direct             direct               untracked      Moweb   \n",
       "2            direct             direct                  linked        Web   \n",
       "3            direct             direct                  linked        Web   \n",
       "4            direct             direct               untracked        Web   \n",
       "\n",
       "  first_device_type  first_browser  \n",
       "0            iPhone  Mobile Safari  \n",
       "1            iPhone  Mobile Safari  \n",
       "2   Windows Desktop         Chrome  \n",
       "3   Windows Desktop             IE  \n",
       "4       Mac Desktop         Safari  "
      ]
     },
     "execution_count": 6,
     "metadata": {},
     "output_type": "execute_result"
    }
   ],
   "source": [
    "df_test.head()"
   ]
  },
  {
   "cell_type": "code",
   "execution_count": 11,
   "metadata": {
    "collapsed": false
   },
   "outputs": [
    {
     "data": {
      "text/html": [
       "<div>\n",
       "<table border=\"1\" class=\"dataframe\">\n",
       "  <thead>\n",
       "    <tr style=\"text-align: right;\">\n",
       "      <th></th>\n",
       "      <th>action</th>\n",
       "      <th>action_type</th>\n",
       "      <th>action_detail</th>\n",
       "      <th>device_type</th>\n",
       "      <th>secs_elapsed</th>\n",
       "      <th>id</th>\n",
       "    </tr>\n",
       "  </thead>\n",
       "  <tbody>\n",
       "    <tr>\n",
       "      <th>0</th>\n",
       "      <td>lookup</td>\n",
       "      <td>NaN</td>\n",
       "      <td>NaN</td>\n",
       "      <td>Windows Desktop</td>\n",
       "      <td>319.0</td>\n",
       "      <td>d1mm9tcy42</td>\n",
       "    </tr>\n",
       "    <tr>\n",
       "      <th>1</th>\n",
       "      <td>search_results</td>\n",
       "      <td>click</td>\n",
       "      <td>view_search_results</td>\n",
       "      <td>Windows Desktop</td>\n",
       "      <td>67753.0</td>\n",
       "      <td>d1mm9tcy42</td>\n",
       "    </tr>\n",
       "    <tr>\n",
       "      <th>2</th>\n",
       "      <td>lookup</td>\n",
       "      <td>NaN</td>\n",
       "      <td>NaN</td>\n",
       "      <td>Windows Desktop</td>\n",
       "      <td>301.0</td>\n",
       "      <td>d1mm9tcy42</td>\n",
       "    </tr>\n",
       "    <tr>\n",
       "      <th>3</th>\n",
       "      <td>search_results</td>\n",
       "      <td>click</td>\n",
       "      <td>view_search_results</td>\n",
       "      <td>Windows Desktop</td>\n",
       "      <td>22141.0</td>\n",
       "      <td>d1mm9tcy42</td>\n",
       "    </tr>\n",
       "    <tr>\n",
       "      <th>4</th>\n",
       "      <td>lookup</td>\n",
       "      <td>NaN</td>\n",
       "      <td>NaN</td>\n",
       "      <td>Windows Desktop</td>\n",
       "      <td>435.0</td>\n",
       "      <td>d1mm9tcy42</td>\n",
       "    </tr>\n",
       "  </tbody>\n",
       "</table>\n",
       "</div>"
      ],
      "text/plain": [
       "           action action_type        action_detail      device_type  \\\n",
       "0          lookup         NaN                  NaN  Windows Desktop   \n",
       "1  search_results       click  view_search_results  Windows Desktop   \n",
       "2          lookup         NaN                  NaN  Windows Desktop   \n",
       "3  search_results       click  view_search_results  Windows Desktop   \n",
       "4          lookup         NaN                  NaN  Windows Desktop   \n",
       "\n",
       "   secs_elapsed          id  \n",
       "0         319.0  d1mm9tcy42  \n",
       "1       67753.0  d1mm9tcy42  \n",
       "2         301.0  d1mm9tcy42  \n",
       "3       22141.0  d1mm9tcy42  \n",
       "4         435.0  d1mm9tcy42  "
      ]
     },
     "execution_count": 11,
     "metadata": {},
     "output_type": "execute_result"
    }
   ],
   "source": [
    "# sessions\n",
    "# Change user_id to id\n",
    "df_sessions = pd.read_csv(sessions_path)\n",
    "df_sessions['id'] = df_sessions['user_id']\n",
    "df_sessions = df_sessions.drop(['user_id'],axis=1)\n",
    "df_sessions.head()"
   ]
  },
  {
   "cell_type": "markdown",
   "metadata": {},
   "source": [
    "## Preparing Session data#"
   ]
  },
  {
   "cell_type": "markdown",
   "metadata": {},
   "source": [
    "#### 1. df_sessions: Fill all NaN with 'NAN' in action, action_type, device_type columns"
   ]
  },
  {
   "cell_type": "code",
   "execution_count": 12,
   "metadata": {
    "collapsed": false
   },
   "outputs": [
    {
     "name": "stdout",
     "output_type": "stream",
     "text": [
      "Working on Session data...\n"
     ]
    }
   ],
   "source": [
    "print('Working on Session data...')\n",
    "#Filling nan with specific value ('NAN')\n",
    "df_sessions.action = df_sessions.action.fillna('NAN')\n",
    "df_sessions.action_type = df_sessions.action_type.fillna('NAN')\n",
    "df_sessions.action_detail = df_sessions.action_detail.fillna('NAN')\n",
    "df_sessions.device_type = df_sessions.device_type.fillna('NAN')"
   ]
  },
  {
   "cell_type": "code",
   "execution_count": 13,
   "metadata": {
    "collapsed": false
   },
   "outputs": [
    {
     "data": {
      "text/html": [
       "<div>\n",
       "<table border=\"1\" class=\"dataframe\">\n",
       "  <thead>\n",
       "    <tr style=\"text-align: right;\">\n",
       "      <th></th>\n",
       "      <th>action</th>\n",
       "      <th>action_type</th>\n",
       "      <th>action_detail</th>\n",
       "      <th>device_type</th>\n",
       "      <th>secs_elapsed</th>\n",
       "      <th>id</th>\n",
       "    </tr>\n",
       "  </thead>\n",
       "  <tbody>\n",
       "    <tr>\n",
       "      <th>0</th>\n",
       "      <td>lookup</td>\n",
       "      <td>NAN</td>\n",
       "      <td>NAN</td>\n",
       "      <td>Windows Desktop</td>\n",
       "      <td>319.0</td>\n",
       "      <td>d1mm9tcy42</td>\n",
       "    </tr>\n",
       "    <tr>\n",
       "      <th>1</th>\n",
       "      <td>search_results</td>\n",
       "      <td>click</td>\n",
       "      <td>view_search_results</td>\n",
       "      <td>Windows Desktop</td>\n",
       "      <td>67753.0</td>\n",
       "      <td>d1mm9tcy42</td>\n",
       "    </tr>\n",
       "    <tr>\n",
       "      <th>2</th>\n",
       "      <td>lookup</td>\n",
       "      <td>NAN</td>\n",
       "      <td>NAN</td>\n",
       "      <td>Windows Desktop</td>\n",
       "      <td>301.0</td>\n",
       "      <td>d1mm9tcy42</td>\n",
       "    </tr>\n",
       "    <tr>\n",
       "      <th>3</th>\n",
       "      <td>search_results</td>\n",
       "      <td>click</td>\n",
       "      <td>view_search_results</td>\n",
       "      <td>Windows Desktop</td>\n",
       "      <td>22141.0</td>\n",
       "      <td>d1mm9tcy42</td>\n",
       "    </tr>\n",
       "    <tr>\n",
       "      <th>4</th>\n",
       "      <td>lookup</td>\n",
       "      <td>NAN</td>\n",
       "      <td>NAN</td>\n",
       "      <td>Windows Desktop</td>\n",
       "      <td>435.0</td>\n",
       "      <td>d1mm9tcy42</td>\n",
       "    </tr>\n",
       "  </tbody>\n",
       "</table>\n",
       "</div>"
      ],
      "text/plain": [
       "           action action_type        action_detail      device_type  \\\n",
       "0          lookup         NAN                  NAN  Windows Desktop   \n",
       "1  search_results       click  view_search_results  Windows Desktop   \n",
       "2          lookup         NAN                  NAN  Windows Desktop   \n",
       "3  search_results       click  view_search_results  Windows Desktop   \n",
       "4          lookup         NAN                  NAN  Windows Desktop   \n",
       "\n",
       "   secs_elapsed          id  \n",
       "0         319.0  d1mm9tcy42  \n",
       "1       67753.0  d1mm9tcy42  \n",
       "2         301.0  d1mm9tcy42  \n",
       "3       22141.0  d1mm9tcy42  \n",
       "4         435.0  d1mm9tcy42  "
      ]
     },
     "execution_count": 13,
     "metadata": {},
     "output_type": "execute_result"
    }
   ],
   "source": [
    "df_sessions.head()"
   ]
  },
  {
   "cell_type": "markdown",
   "metadata": {},
   "source": [
    "#### 2. df_sessions: action modification, Action values with low frequency (set to be 100) are changed to 'OTHER'"
   ]
  },
  {
   "cell_type": "code",
   "execution_count": 14,
   "metadata": {
    "collapsed": false
   },
   "outputs": [
    {
     "data": {
      "text/plain": [
       "show                         2768278\n",
       "index                         843699\n",
       "search_results                725226\n",
       "personalize                   706824\n",
       "search                        536057\n",
       "ajax_refresh_subtotal         487744\n",
       "update                        365130\n",
       "similar_listings              364624\n",
       "social_connections            339000\n",
       "reviews                       320591\n",
       "active                        188036\n",
       "similar_listings_v2           168788\n",
       "lookup                        162041\n",
       "create                        155887\n",
       "dashboard                     152952\n",
       "header_userpic                141830\n",
       "collections                   124417\n",
       "edit                          109083\n",
       "campaigns                     105028\n",
       "track_page_view                81117\n",
       "NAN                            79626\n",
       "unavailabilities               78317\n",
       "qt2                            64651\n",
       "notifications                  59392\n",
       "confirm_email                  58726\n",
       "requested                      57034\n",
       "identity                       53631\n",
       "ajax_check_dates               52517\n",
       "show_personalize               50434\n",
       "ask_question                   44063\n",
       "                              ...   \n",
       "confirmation                       2\n",
       "south-america                      2\n",
       "accept_decline                     2\n",
       "rest-of-world                      2\n",
       "recommendation_page                2\n",
       "special_offer                      2\n",
       "preapproval                        2\n",
       "friend_listing                     2\n",
       "refund_guest_cancellation          2\n",
       "sandy                              2\n",
       "tos_2014                           2\n",
       "stpcv                              2\n",
       "report                             2\n",
       "views_campaign                     2\n",
       "use_mobile_site                    2\n",
       "plaxo_cb                           1\n",
       "wishlists                          1\n",
       "deactivate                         1\n",
       "desks                              1\n",
       "set_minimum_payout_amount          1\n",
       "update_message                     1\n",
       "sldf                               1\n",
       "deactivated                        1\n",
       "host_cancel                        1\n",
       "nyan                               1\n",
       "reactivate                         1\n",
       "revert_to_admin                    1\n",
       "acculynk_bin_check_failed          1\n",
       "events                             1\n",
       "deauthorize                        1\n",
       "Name: action, dtype: int64"
      ]
     },
     "execution_count": 14,
     "metadata": {},
     "output_type": "execute_result"
    }
   ],
   "source": [
    "df_sessions[\"action\"].value_counts()"
   ]
  },
  {
   "cell_type": "code",
   "execution_count": 15,
   "metadata": {
    "collapsed": true
   },
   "outputs": [],
   "source": [
    "# Action values with low frequency are changed to 'OTHER'\n",
    "act_freq = 100  #Threshold for frequency\n",
    "act = dict(zip(*np.unique(df_sessions.action, return_counts=True)))\n",
    "df_sessions.action = df_sessions.action.apply(lambda x: 'OTHER' if act[x] < act_freq else x)"
   ]
  },
  {
   "cell_type": "markdown",
   "metadata": {},
   "source": [
    "#### 3. df_sessions: feature engineering action_values, action_detial, action_type, device_type, section elapse"
   ]
  },
  {
   "cell_type": "code",
   "execution_count": 16,
   "metadata": {
    "collapsed": true
   },
   "outputs": [],
   "source": [
    "#Computing value_counts. These are going to be used in the one-hot encoding\n",
    "#based feature generation (following loop).\n",
    "f_act = df_sessions.action.value_counts().argsort() # descending\n",
    "f_act_detail = df_sessions.action_detail.value_counts().argsort() # descending\n",
    "f_act_type = df_sessions.action_type.value_counts().argsort() # descending\n",
    "f_dev_type = df_sessions.device_type.value_counts().argsort() # descending\n",
    "\n",
    "# grouping session by id. We will compute features from all rows with the same id.\n",
    "dgr_sess = df_sessions.groupby(['id'])"
   ]
  },
  {
   "cell_type": "code",
   "execution_count": 17,
   "metadata": {
    "collapsed": false,
    "scrolled": true
   },
   "outputs": [],
   "source": [
    "# This is after group by what inside each iteration.\n",
    "gr = list(df_sessions.groupby(['id']))[0][1]\n",
    "# gr"
   ]
  },
  {
   "cell_type": "code",
   "execution_count": 18,
   "metadata": {
    "collapsed": false,
    "scrolled": true
   },
   "outputs": [
    {
     "data": {
      "text/plain": [
       "view_search_results               155\n",
       "p3                                152\n",
       "NAN                               154\n",
       "-unknown-                         153\n",
       "wishlist_content_update           151\n",
       "user_profile                      149\n",
       "change_trip_characteristics       150\n",
       "similar_listings                  148\n",
       "user_social_connections           147\n",
       "update_listing                    146\n",
       "listing_reviews                   145\n",
       "dashboard                         144\n",
       "user_wishlists                    143\n",
       "header_userpic                    142\n",
       "message_thread                    141\n",
       "edit_profile                      140\n",
       "message_post                      139\n",
       "contact_host                      138\n",
       "unavailable_dates                 137\n",
       "confirm_email_link                136\n",
       "create_user                       135\n",
       "change_contact_host_dates         134\n",
       "user_profile_content_update       133\n",
       "user_reviews                      132\n",
       "p5                                131\n",
       "login                             130\n",
       "your_trips                        129\n",
       "p1                                128\n",
       "notifications                     127\n",
       "profile_verifications             126\n",
       "                                 ... \n",
       "share                              29\n",
       "view_security_checks               28\n",
       "remove_dashboard_alert             27\n",
       "delete_listing                     26\n",
       "place_worth                        25\n",
       "create_payment_instrument          24\n",
       "complete_booking                   23\n",
       "view_identity_verifications        22\n",
       "calculate_worth                    21\n",
       "change_availability                20\n",
       "alteration_request                 19\n",
       "view_resolutions                   18\n",
       "view_user_real_names               17\n",
       "create_alteration_request          16\n",
       "phone_numbers                      15\n",
       "set_default_payment_instrument     14\n",
       "view_ghosting_reasons              13\n",
       "view_ghostings                     12\n",
       "homepage                           11\n",
       "respond_to_alteration_request      10\n",
       "deactivate_user_account             9\n",
       "delete_payment_instrument           8\n",
       "delete_listing_description          7\n",
       "host_respond                        6\n",
       "booking                             5\n",
       "special_offer_field                 4\n",
       "host_respond_page                   3\n",
       "tos_2014                            2\n",
       "host_refund_guest                   1\n",
       "host_standard_suspension            0\n",
       "Name: action_detail, dtype: int64"
      ]
     },
     "execution_count": 18,
     "metadata": {},
     "output_type": "execute_result"
    }
   ],
   "source": [
    "f_act_detail"
   ]
  },
  {
   "cell_type": "code",
   "execution_count": 19,
   "metadata": {
    "collapsed": false
   },
   "outputs": [
    {
     "data": {
      "text/plain": [
       "view                10\n",
       "data                 9\n",
       "click                8\n",
       "NAN                  7\n",
       "-unknown-            6\n",
       "submit               5\n",
       "message_post         4\n",
       "partner_callback     3\n",
       "booking_request      2\n",
       "modify               1\n",
       "booking_response     0\n",
       "Name: action_type, dtype: int64"
      ]
     },
     "execution_count": 19,
     "metadata": {},
     "output_type": "execute_result"
    }
   ],
   "source": [
    "f_act_type"
   ]
  },
  {
   "cell_type": "code",
   "execution_count": 20,
   "metadata": {
    "collapsed": false
   },
   "outputs": [
    {
     "data": {
      "text/plain": [
       "Mac Desktop                         13\n",
       "Windows Desktop                     12\n",
       "iPhone                              11\n",
       "Android Phone                       10\n",
       "iPad Tablet                          9\n",
       "Android App Unknown Phone/Tablet     8\n",
       "-unknown-                            7\n",
       "Tablet                               6\n",
       "Linux Desktop                        5\n",
       "Chromebook                           4\n",
       "iPodtouch                            3\n",
       "Windows Phone                        2\n",
       "Blackberry                           1\n",
       "Opera Phone                          0\n",
       "Name: device_type, dtype: int64"
      ]
     },
     "execution_count": 20,
     "metadata": {},
     "output_type": "execute_result"
    }
   ],
   "source": [
    "f_dev_type"
   ]
  },
  {
   "cell_type": "code",
   "execution_count": 21,
   "metadata": {
    "collapsed": false
   },
   "outputs": [
    {
     "name": "stdout",
     "output_type": "stream",
     "text": [
      "0 from 135483\n",
      "10000 from 135483\n",
      "20000 from 135483\n",
      "30000 from 135483\n",
      "40000 from 135483\n",
      "50000 from 135483\n",
      "60000 from 135483\n",
      "70000 from 135483\n",
      "80000 from 135483\n",
      "90000 from 135483\n",
      "100000 from 135483\n",
      "110000 from 135483\n",
      "120000 from 135483\n",
      "130000 from 135483\n"
     ]
    }
   ],
   "source": [
    "# Loop on dgr_sess to create all the features.\n",
    "# This is about 10 minutes\n",
    "samples = []\n",
    "cont = 0\n",
    "ln = len(dgr_sess)\n",
    "for g in dgr_sess:\n",
    "    if cont%10000 == 0:\n",
    "        print(\"%s from %s\" %(cont, ln))\n",
    "    gr = g[1]\n",
    "    l = []\n",
    "    \n",
    "    #the id, the key in groupby list\n",
    "    l.append(g[0]) ##### l has the id #####\n",
    "    \n",
    "    #The actual first feature is the number of values. the number of actions for each users\n",
    "    l.append(len(gr)) ##### l has id + the number of actions in this user #####\n",
    "    \n",
    "    sev = gr.secs_elapsed.fillna(0).values   # These values are used later. # these are the values secs_elapsed are known\n",
    "    \n",
    "    #action features\n",
    "    #(how many times each value occurs, numb of unique values, mean and std)\n",
    "    c_act = [0] * len(f_act) # create a list has the length of unique actions for each user\n",
    "    for i,v in enumerate(gr.action.values):\n",
    "        c_act[f_act[v]] += 1 # this is the user action list and has each action's count\n",
    "                             # It is the reverse order of f_act\n",
    "                             # In f_act, the order is show, index ....\n",
    "                             # In c_act, the order is .......... index, show\n",
    "    _, c_act_uqc = np.unique(gr.action.values, return_counts=True)\n",
    "    c_act += [len(c_act_uqc), np.mean(c_act_uqc), np.std(c_act_uqc)]\n",
    "    l = l + c_act ##### l now have 'id + number of actions in this user + \n",
    "                        # list of all actions and their count + leng of unique actions + \n",
    "                        # mean frequenc + std freq\" #####\n",
    "    \n",
    "    #action_detail features\n",
    "    #(how many times each value occurs, numb of unique values, mean and std)\n",
    "    c_act_detail = [0] * len(f_act_detail)\n",
    "    for i,v in enumerate(gr.action_detail.values):\n",
    "        c_act_detail[f_act_detail[v]] += 1 \n",
    "    _, c_act_det_uqc = np.unique(gr.action_detail.values, return_counts=True)\n",
    "    c_act_detail += [len(c_act_det_uqc), np.mean(c_act_det_uqc), np.std(c_act_det_uqc)]\n",
    "    l = l + c_act_detail ##### l now have 'id + number of actions in this user + \n",
    "                            # action features + action_detail features#####\n",
    "    \n",
    "    #action_type features\n",
    "    #(how many times each value occurs, numb of unique values, mean and std\n",
    "    #+ log of the sum of secs_elapsed for each value)\n",
    "    l_act_type = [0] * len(f_act_type)\n",
    "    c_act_type = [0] * len(f_act_type)\n",
    "    for i,v in enumerate(gr.action_type.values):\n",
    "        l_act_type[f_act_type[v]] += sev[i]   \n",
    "        c_act_type[f_act_type[v]] += 1  \n",
    "    l_act_type = np.log(1 + np.array(l_act_type)).tolist()\n",
    "    _, c_act_type_uqc = np.unique(gr.action_type.values, return_counts=True)\n",
    "    c_act_type += [len(c_act_type_uqc), np.mean(c_act_type_uqc), np.std(c_act_type_uqc)]\n",
    "    l = l + c_act_type + l_act_type  ##### l now have 'id + number of actions in this user + \n",
    "                            # action features + action_detail features + action type + action type elapse#####  \n",
    "    \n",
    "    #device_type features\n",
    "    #(how many times each value occurs, numb of unique values, mean and std)\n",
    "    c_dev_type  = [0] * len(f_dev_type)\n",
    "    for i,v in enumerate(gr.device_type .values):\n",
    "        c_dev_type[f_dev_type[v]] += 1 \n",
    "    c_dev_type.append(len(np.unique(gr.device_type.values)))\n",
    "    _, c_dev_type_uqc = np.unique(gr.device_type.values, return_counts=True)\n",
    "    c_dev_type += [len(c_dev_type_uqc), np.mean(c_dev_type_uqc), np.std(c_dev_type_uqc)]        \n",
    "    l = l + c_dev_type    ##### l now have 'id + number of actions in this user + \n",
    "                            # action features + action_detail features + action type + action type elapse\n",
    "                            # + device type #####  \n",
    "    \n",
    "    #secs_elapsed features        \n",
    "    l_secs = [0] * 5 \n",
    "    l_log = [0] * 15\n",
    "    if len(sev) > 0:\n",
    "        #Simple statistics about the secs_elapsed values.\n",
    "        l_secs[0] = np.log(1 + np.sum(sev))\n",
    "        l_secs[1] = np.log(1 + np.mean(sev)) \n",
    "        l_secs[2] = np.log(1 + np.std(sev))\n",
    "        l_secs[3] = np.log(1 + np.median(sev))\n",
    "        l_secs[4] = l_secs[0] / float(l[1])\n",
    "        \n",
    "        #Values are grouped in 15 intervals. Compute the number of values\n",
    "        #in each interval.\n",
    "        log_sev = np.log(1 + sev).astype(int)\n",
    "        l_log = np.bincount(log_sev, minlength=15).tolist()                      \n",
    "    l = l + l_secs + l_log \n",
    "     ##### l now have 'id + number of actions in this user + \n",
    "        # action features + action_detail features + action type + action type elapse\n",
    "        # + device type + secs_elapsed simple statistiics + distribution#####  \n",
    "    \n",
    "    \n",
    "    #The list l has the feature values of one sample.\n",
    "    samples.append(l)\n",
    "    cont += 1"
   ]
  },
  {
   "cell_type": "code",
   "execution_count": 22,
   "metadata": {
    "collapsed": true
   },
   "outputs": [],
   "source": [
    "#Creating a dataframe with the computed features    \n",
    "col_names = []    #name of the columns\n",
    "for i in range(len(samples[0])-1):\n",
    "    col_names.append('c_' + str(i)) \n",
    "#preparing objects    \n",
    "samples = np.array(samples)\n",
    "samp_ar = samples[:, 1:].astype(np.float16)\n",
    "samp_id = samples[:, 0]   #The first element in obs is the id of the sample.\n",
    "\n",
    "#creating the dataframe        \n",
    "df_agg_sess = pd.DataFrame(samp_ar, columns=col_names)\n",
    "df_agg_sess['id'] = samp_id\n",
    "df_agg_sess.index = df_agg_sess.id"
   ]
  },
  {
   "cell_type": "code",
   "execution_count": 26,
   "metadata": {
    "collapsed": false
   },
   "outputs": [
    {
     "data": {
      "text/plain": [
       "id\n",
       "00023iyk9l    13.671875\n",
       "0010k6l0om    13.281250\n",
       "001wyh0pz8    12.554688\n",
       "0028jgx1x1    12.601562\n",
       "002qnbzfs5    15.687500\n",
       "0031awlkjq    10.585938\n",
       "0035hobuyj    15.562500\n",
       "00378ocvlh    14.421875\n",
       "00389675gq    14.773438\n",
       "003iamz20l    14.281250\n",
       "0048rkdgb1    12.703125\n",
       "0057snrdpu    14.093750\n",
       "005jc3nbmb    14.843750\n",
       "005v5uf4dh    12.085938\n",
       "0063bawn05    14.906250\n",
       "006ml14zc1    12.226562\n",
       "006mls2sjw    14.703125\n",
       "006t3vhawl    13.609375\n",
       "006z8b0uws    12.687500\n",
       "0075z9e9xv    15.093750\n",
       "007gj7kqdk    12.820312\n",
       "009a40t3dk    14.546875\n",
       "00a8dbifj8    13.117188\n",
       "00allnceb8     0.000000\n",
       "00an0o6c07    13.046875\n",
       "00b9hfwaak    13.695312\n",
       "00bn6hu437    13.726562\n",
       "00bowi9sn3    11.234375\n",
       "00bqkh0g5i     6.773438\n",
       "00bxmflswn    15.039062\n",
       "                ...    \n",
       "zzq90ckj2z    13.304688\n",
       "zzqb2sn066    13.273438\n",
       "zzr1rkdsh9    14.617188\n",
       "zzrnx9rqi5    13.968750\n",
       "zzsoxtv8zb    15.500000\n",
       "zzsslqqkee    12.875000\n",
       "zzsszlux3t     6.882812\n",
       "zzswqjsqy4    14.218750\n",
       "zzt5gpsyqa    14.023438\n",
       "zzt8w28nl5    14.554688\n",
       "zztaeo9wd5    13.414062\n",
       "zztkv1gkse    13.164062\n",
       "zzu3u71odh    12.968750\n",
       "zzu6ezwap2    13.296875\n",
       "zzunwylrfv    15.796875\n",
       "zzuy4rvdki    11.734375\n",
       "zzv6z6rjr9    14.265625\n",
       "zzv8sgicbk    13.046875\n",
       "zzvatt4dio    16.265625\n",
       "zzvg4emw5w    14.937500\n",
       "zzvr84im58    11.242188\n",
       "zzw7kydxfa     6.937500\n",
       "zzx06inhbv     0.000000\n",
       "zzx0hfd74v    12.265625\n",
       "zzx5wp3lqu    13.156250\n",
       "zzxox7jnrx    13.367188\n",
       "zzy7t0y9cm    11.210938\n",
       "zzysuoqg6x     7.457031\n",
       "zzywmcn0jv    14.578125\n",
       "zzzlylp57e    12.976562\n",
       "Name: c_437, dtype: float16"
      ]
     },
     "execution_count": 26,
     "metadata": {},
     "output_type": "execute_result"
    }
   ],
   "source": [
    "df_agg_sess[\"c_437\"]"
   ]
  },
  {
   "cell_type": "code",
   "execution_count": 33,
   "metadata": {
    "collapsed": false
   },
   "outputs": [
    {
     "data": {
      "text/html": [
       "<div>\n",
       "<table border=\"1\" class=\"dataframe\">\n",
       "  <thead>\n",
       "    <tr style=\"text-align: right;\">\n",
       "      <th></th>\n",
       "      <th>c_0</th>\n",
       "      <th>c_1</th>\n",
       "      <th>c_2</th>\n",
       "      <th>c_3</th>\n",
       "      <th>c_4</th>\n",
       "      <th>c_5</th>\n",
       "      <th>c_6</th>\n",
       "      <th>c_7</th>\n",
       "      <th>c_8</th>\n",
       "      <th>c_9</th>\n",
       "      <th>...</th>\n",
       "      <th>c_448</th>\n",
       "      <th>c_449</th>\n",
       "      <th>c_450</th>\n",
       "      <th>c_451</th>\n",
       "      <th>c_452</th>\n",
       "      <th>c_453</th>\n",
       "      <th>c_454</th>\n",
       "      <th>c_455</th>\n",
       "      <th>c_456</th>\n",
       "      <th>id</th>\n",
       "    </tr>\n",
       "    <tr>\n",
       "      <th>id</th>\n",
       "      <th></th>\n",
       "      <th></th>\n",
       "      <th></th>\n",
       "      <th></th>\n",
       "      <th></th>\n",
       "      <th></th>\n",
       "      <th></th>\n",
       "      <th></th>\n",
       "      <th></th>\n",
       "      <th></th>\n",
       "      <th></th>\n",
       "      <th></th>\n",
       "      <th></th>\n",
       "      <th></th>\n",
       "      <th></th>\n",
       "      <th></th>\n",
       "      <th></th>\n",
       "      <th></th>\n",
       "      <th></th>\n",
       "      <th></th>\n",
       "      <th></th>\n",
       "    </tr>\n",
       "  </thead>\n",
       "  <tbody>\n",
       "    <tr>\n",
       "      <th>00023iyk9l</th>\n",
       "      <td>40.0</td>\n",
       "      <td>0.0</td>\n",
       "      <td>0.0</td>\n",
       "      <td>0.0</td>\n",
       "      <td>0.0</td>\n",
       "      <td>0.0</td>\n",
       "      <td>0.0</td>\n",
       "      <td>0.0</td>\n",
       "      <td>0.0</td>\n",
       "      <td>0.0</td>\n",
       "      <td>...</td>\n",
       "      <td>12.0</td>\n",
       "      <td>6.0</td>\n",
       "      <td>2.0</td>\n",
       "      <td>3.0</td>\n",
       "      <td>3.0</td>\n",
       "      <td>1.0</td>\n",
       "      <td>0.0</td>\n",
       "      <td>1.0</td>\n",
       "      <td>0.0</td>\n",
       "      <td>00023iyk9l</td>\n",
       "    </tr>\n",
       "    <tr>\n",
       "      <th>0010k6l0om</th>\n",
       "      <td>63.0</td>\n",
       "      <td>0.0</td>\n",
       "      <td>0.0</td>\n",
       "      <td>0.0</td>\n",
       "      <td>0.0</td>\n",
       "      <td>0.0</td>\n",
       "      <td>0.0</td>\n",
       "      <td>0.0</td>\n",
       "      <td>0.0</td>\n",
       "      <td>0.0</td>\n",
       "      <td>...</td>\n",
       "      <td>8.0</td>\n",
       "      <td>12.0</td>\n",
       "      <td>2.0</td>\n",
       "      <td>8.0</td>\n",
       "      <td>4.0</td>\n",
       "      <td>3.0</td>\n",
       "      <td>0.0</td>\n",
       "      <td>0.0</td>\n",
       "      <td>0.0</td>\n",
       "      <td>0010k6l0om</td>\n",
       "    </tr>\n",
       "    <tr>\n",
       "      <th>001wyh0pz8</th>\n",
       "      <td>90.0</td>\n",
       "      <td>0.0</td>\n",
       "      <td>0.0</td>\n",
       "      <td>0.0</td>\n",
       "      <td>0.0</td>\n",
       "      <td>0.0</td>\n",
       "      <td>0.0</td>\n",
       "      <td>0.0</td>\n",
       "      <td>0.0</td>\n",
       "      <td>0.0</td>\n",
       "      <td>...</td>\n",
       "      <td>27.0</td>\n",
       "      <td>30.0</td>\n",
       "      <td>9.0</td>\n",
       "      <td>8.0</td>\n",
       "      <td>1.0</td>\n",
       "      <td>0.0</td>\n",
       "      <td>0.0</td>\n",
       "      <td>0.0</td>\n",
       "      <td>0.0</td>\n",
       "      <td>001wyh0pz8</td>\n",
       "    </tr>\n",
       "    <tr>\n",
       "      <th>0028jgx1x1</th>\n",
       "      <td>31.0</td>\n",
       "      <td>0.0</td>\n",
       "      <td>0.0</td>\n",
       "      <td>0.0</td>\n",
       "      <td>0.0</td>\n",
       "      <td>0.0</td>\n",
       "      <td>0.0</td>\n",
       "      <td>0.0</td>\n",
       "      <td>0.0</td>\n",
       "      <td>0.0</td>\n",
       "      <td>...</td>\n",
       "      <td>1.0</td>\n",
       "      <td>2.0</td>\n",
       "      <td>3.0</td>\n",
       "      <td>5.0</td>\n",
       "      <td>4.0</td>\n",
       "      <td>1.0</td>\n",
       "      <td>0.0</td>\n",
       "      <td>0.0</td>\n",
       "      <td>0.0</td>\n",
       "      <td>0028jgx1x1</td>\n",
       "    </tr>\n",
       "    <tr>\n",
       "      <th>002qnbzfs5</th>\n",
       "      <td>789.0</td>\n",
       "      <td>0.0</td>\n",
       "      <td>0.0</td>\n",
       "      <td>0.0</td>\n",
       "      <td>0.0</td>\n",
       "      <td>0.0</td>\n",
       "      <td>0.0</td>\n",
       "      <td>0.0</td>\n",
       "      <td>0.0</td>\n",
       "      <td>0.0</td>\n",
       "      <td>...</td>\n",
       "      <td>111.0</td>\n",
       "      <td>102.0</td>\n",
       "      <td>104.0</td>\n",
       "      <td>57.0</td>\n",
       "      <td>28.0</td>\n",
       "      <td>9.0</td>\n",
       "      <td>4.0</td>\n",
       "      <td>1.0</td>\n",
       "      <td>1.0</td>\n",
       "      <td>002qnbzfs5</td>\n",
       "    </tr>\n",
       "  </tbody>\n",
       "</table>\n",
       "<p>5 rows × 458 columns</p>\n",
       "</div>"
      ],
      "text/plain": [
       "              c_0  c_1  c_2  c_3  c_4  c_5  c_6  c_7  c_8  c_9     ...      \\\n",
       "id                                                                 ...       \n",
       "00023iyk9l   40.0  0.0  0.0  0.0  0.0  0.0  0.0  0.0  0.0  0.0     ...       \n",
       "0010k6l0om   63.0  0.0  0.0  0.0  0.0  0.0  0.0  0.0  0.0  0.0     ...       \n",
       "001wyh0pz8   90.0  0.0  0.0  0.0  0.0  0.0  0.0  0.0  0.0  0.0     ...       \n",
       "0028jgx1x1   31.0  0.0  0.0  0.0  0.0  0.0  0.0  0.0  0.0  0.0     ...       \n",
       "002qnbzfs5  789.0  0.0  0.0  0.0  0.0  0.0  0.0  0.0  0.0  0.0     ...       \n",
       "\n",
       "            c_448  c_449  c_450  c_451  c_452  c_453  c_454  c_455  c_456  \\\n",
       "id                                                                          \n",
       "00023iyk9l   12.0    6.0    2.0    3.0    3.0    1.0    0.0    1.0    0.0   \n",
       "0010k6l0om    8.0   12.0    2.0    8.0    4.0    3.0    0.0    0.0    0.0   \n",
       "001wyh0pz8   27.0   30.0    9.0    8.0    1.0    0.0    0.0    0.0    0.0   \n",
       "0028jgx1x1    1.0    2.0    3.0    5.0    4.0    1.0    0.0    0.0    0.0   \n",
       "002qnbzfs5  111.0  102.0  104.0   57.0   28.0    9.0    4.0    1.0    1.0   \n",
       "\n",
       "                    id  \n",
       "id                      \n",
       "00023iyk9l  00023iyk9l  \n",
       "0010k6l0om  0010k6l0om  \n",
       "001wyh0pz8  001wyh0pz8  \n",
       "0028jgx1x1  0028jgx1x1  \n",
       "002qnbzfs5  002qnbzfs5  \n",
       "\n",
       "[5 rows x 458 columns]"
      ]
     },
     "execution_count": 33,
     "metadata": {},
     "output_type": "execute_result"
    }
   ],
   "source": [
    "df_agg_sess.head()\n",
    "#\n",
    "#c_0: the number of actions (include duplicates) for this id\n",
    "#c_1 - c_231: action features\n",
    "#c_232 - c_234: unique number of actions, the mean frequency of action counts, the std of action counts\n",
    "#c_235 - c_390: action_detail features\n",
    "#c_391 - c_393: unique number of actions detail, the mean frequency of action detail counts, the std\n",
    "#c_394 - c_404: log of the sum of secs_elapsed for each value\n",
    "#c_405 - c_407: unique sum of secs_elapsed for each action_type features, mean, std\n",
    "#c_408 - c_415: action_type features\n",
    "#c_416 - c_418: unique number of action_type features, mean, std\n",
    "#c_418 - c_433: device_type features\n",
    "#c_434 - c_436: unique number of device_type features, mean, std\n",
    "#c_437 - c_456: secs_elapsed features        \n",
    "#"
   ]
  },
  {
   "cell_type": "code",
   "execution_count": 28,
   "metadata": {
    "collapsed": true
   },
   "outputs": [],
   "source": [
    "df_agg_sess.to_csv('agg_sess.csv')"
   ]
  },
  {
   "cell_type": "code",
   "execution_count": 10,
   "metadata": {
    "collapsed": true
   },
   "outputs": [],
   "source": [
    "df_agg_sess = pd.read_csv('agg_sess.csv',index_col = 'id')"
   ]
  },
  {
   "cell_type": "code",
   "execution_count": 12,
   "metadata": {
    "collapsed": false
   },
   "outputs": [
    {
     "data": {
      "text/html": [
       "<div>\n",
       "<table border=\"1\" class=\"dataframe\">\n",
       "  <thead>\n",
       "    <tr style=\"text-align: right;\">\n",
       "      <th></th>\n",
       "      <th>c_0</th>\n",
       "      <th>c_1</th>\n",
       "      <th>c_2</th>\n",
       "      <th>c_3</th>\n",
       "      <th>c_4</th>\n",
       "      <th>c_5</th>\n",
       "      <th>c_6</th>\n",
       "      <th>c_7</th>\n",
       "      <th>c_8</th>\n",
       "      <th>c_9</th>\n",
       "      <th>...</th>\n",
       "      <th>c_448</th>\n",
       "      <th>c_449</th>\n",
       "      <th>c_450</th>\n",
       "      <th>c_451</th>\n",
       "      <th>c_452</th>\n",
       "      <th>c_453</th>\n",
       "      <th>c_454</th>\n",
       "      <th>c_455</th>\n",
       "      <th>c_456</th>\n",
       "      <th>id.1</th>\n",
       "    </tr>\n",
       "    <tr>\n",
       "      <th>id</th>\n",
       "      <th></th>\n",
       "      <th></th>\n",
       "      <th></th>\n",
       "      <th></th>\n",
       "      <th></th>\n",
       "      <th></th>\n",
       "      <th></th>\n",
       "      <th></th>\n",
       "      <th></th>\n",
       "      <th></th>\n",
       "      <th></th>\n",
       "      <th></th>\n",
       "      <th></th>\n",
       "      <th></th>\n",
       "      <th></th>\n",
       "      <th></th>\n",
       "      <th></th>\n",
       "      <th></th>\n",
       "      <th></th>\n",
       "      <th></th>\n",
       "      <th></th>\n",
       "    </tr>\n",
       "  </thead>\n",
       "  <tbody>\n",
       "    <tr>\n",
       "      <th>00023iyk9l</th>\n",
       "      <td>40.0</td>\n",
       "      <td>0.0</td>\n",
       "      <td>0.0</td>\n",
       "      <td>0.0</td>\n",
       "      <td>0.0</td>\n",
       "      <td>0.0</td>\n",
       "      <td>0.0</td>\n",
       "      <td>0.0</td>\n",
       "      <td>0.0</td>\n",
       "      <td>0.0</td>\n",
       "      <td>...</td>\n",
       "      <td>12.0</td>\n",
       "      <td>6.0</td>\n",
       "      <td>2.0</td>\n",
       "      <td>3.0</td>\n",
       "      <td>3.0</td>\n",
       "      <td>1.0</td>\n",
       "      <td>0.0</td>\n",
       "      <td>1.0</td>\n",
       "      <td>0.0</td>\n",
       "      <td>00023iyk9l</td>\n",
       "    </tr>\n",
       "    <tr>\n",
       "      <th>0010k6l0om</th>\n",
       "      <td>63.0</td>\n",
       "      <td>0.0</td>\n",
       "      <td>0.0</td>\n",
       "      <td>0.0</td>\n",
       "      <td>0.0</td>\n",
       "      <td>0.0</td>\n",
       "      <td>0.0</td>\n",
       "      <td>0.0</td>\n",
       "      <td>0.0</td>\n",
       "      <td>0.0</td>\n",
       "      <td>...</td>\n",
       "      <td>8.0</td>\n",
       "      <td>12.0</td>\n",
       "      <td>2.0</td>\n",
       "      <td>8.0</td>\n",
       "      <td>4.0</td>\n",
       "      <td>3.0</td>\n",
       "      <td>0.0</td>\n",
       "      <td>0.0</td>\n",
       "      <td>0.0</td>\n",
       "      <td>0010k6l0om</td>\n",
       "    </tr>\n",
       "    <tr>\n",
       "      <th>001wyh0pz8</th>\n",
       "      <td>90.0</td>\n",
       "      <td>0.0</td>\n",
       "      <td>0.0</td>\n",
       "      <td>0.0</td>\n",
       "      <td>0.0</td>\n",
       "      <td>0.0</td>\n",
       "      <td>0.0</td>\n",
       "      <td>0.0</td>\n",
       "      <td>0.0</td>\n",
       "      <td>0.0</td>\n",
       "      <td>...</td>\n",
       "      <td>27.0</td>\n",
       "      <td>30.0</td>\n",
       "      <td>9.0</td>\n",
       "      <td>8.0</td>\n",
       "      <td>1.0</td>\n",
       "      <td>0.0</td>\n",
       "      <td>0.0</td>\n",
       "      <td>0.0</td>\n",
       "      <td>0.0</td>\n",
       "      <td>001wyh0pz8</td>\n",
       "    </tr>\n",
       "    <tr>\n",
       "      <th>0028jgx1x1</th>\n",
       "      <td>31.0</td>\n",
       "      <td>0.0</td>\n",
       "      <td>0.0</td>\n",
       "      <td>0.0</td>\n",
       "      <td>0.0</td>\n",
       "      <td>0.0</td>\n",
       "      <td>0.0</td>\n",
       "      <td>0.0</td>\n",
       "      <td>0.0</td>\n",
       "      <td>0.0</td>\n",
       "      <td>...</td>\n",
       "      <td>1.0</td>\n",
       "      <td>2.0</td>\n",
       "      <td>3.0</td>\n",
       "      <td>5.0</td>\n",
       "      <td>4.0</td>\n",
       "      <td>1.0</td>\n",
       "      <td>0.0</td>\n",
       "      <td>0.0</td>\n",
       "      <td>0.0</td>\n",
       "      <td>0028jgx1x1</td>\n",
       "    </tr>\n",
       "    <tr>\n",
       "      <th>002qnbzfs5</th>\n",
       "      <td>789.0</td>\n",
       "      <td>0.0</td>\n",
       "      <td>0.0</td>\n",
       "      <td>0.0</td>\n",
       "      <td>0.0</td>\n",
       "      <td>0.0</td>\n",
       "      <td>0.0</td>\n",
       "      <td>0.0</td>\n",
       "      <td>0.0</td>\n",
       "      <td>0.0</td>\n",
       "      <td>...</td>\n",
       "      <td>111.0</td>\n",
       "      <td>102.0</td>\n",
       "      <td>104.0</td>\n",
       "      <td>57.0</td>\n",
       "      <td>28.0</td>\n",
       "      <td>9.0</td>\n",
       "      <td>4.0</td>\n",
       "      <td>1.0</td>\n",
       "      <td>1.0</td>\n",
       "      <td>002qnbzfs5</td>\n",
       "    </tr>\n",
       "  </tbody>\n",
       "</table>\n",
       "<p>5 rows × 458 columns</p>\n",
       "</div>"
      ],
      "text/plain": [
       "              c_0  c_1  c_2  c_3  c_4  c_5  c_6  c_7  c_8  c_9     ...      \\\n",
       "id                                                                 ...       \n",
       "00023iyk9l   40.0  0.0  0.0  0.0  0.0  0.0  0.0  0.0  0.0  0.0     ...       \n",
       "0010k6l0om   63.0  0.0  0.0  0.0  0.0  0.0  0.0  0.0  0.0  0.0     ...       \n",
       "001wyh0pz8   90.0  0.0  0.0  0.0  0.0  0.0  0.0  0.0  0.0  0.0     ...       \n",
       "0028jgx1x1   31.0  0.0  0.0  0.0  0.0  0.0  0.0  0.0  0.0  0.0     ...       \n",
       "002qnbzfs5  789.0  0.0  0.0  0.0  0.0  0.0  0.0  0.0  0.0  0.0     ...       \n",
       "\n",
       "            c_448  c_449  c_450  c_451  c_452  c_453  c_454  c_455  c_456  \\\n",
       "id                                                                          \n",
       "00023iyk9l   12.0    6.0    2.0    3.0    3.0    1.0    0.0    1.0    0.0   \n",
       "0010k6l0om    8.0   12.0    2.0    8.0    4.0    3.0    0.0    0.0    0.0   \n",
       "001wyh0pz8   27.0   30.0    9.0    8.0    1.0    0.0    0.0    0.0    0.0   \n",
       "0028jgx1x1    1.0    2.0    3.0    5.0    4.0    1.0    0.0    0.0    0.0   \n",
       "002qnbzfs5  111.0  102.0  104.0   57.0   28.0    9.0    4.0    1.0    1.0   \n",
       "\n",
       "                  id.1  \n",
       "id                      \n",
       "00023iyk9l  00023iyk9l  \n",
       "0010k6l0om  0010k6l0om  \n",
       "001wyh0pz8  001wyh0pz8  \n",
       "0028jgx1x1  0028jgx1x1  \n",
       "002qnbzfs5  002qnbzfs5  \n",
       "\n",
       "[5 rows x 458 columns]"
      ]
     },
     "execution_count": 12,
     "metadata": {},
     "output_type": "execute_result"
    }
   ],
   "source": [
    "df_agg_sess.head()"
   ]
  },
  {
   "cell_type": "code",
   "execution_count": 62,
   "metadata": {
    "collapsed": false
   },
   "outputs": [],
   "source": [
    "  df_agg_sess=df_agg_sess.rename(index=str, columns={\"id.1\": \"id\"})"
   ]
  },
  {
   "cell_type": "code",
   "execution_count": 63,
   "metadata": {
    "collapsed": false
   },
   "outputs": [
    {
     "data": {
      "text/html": [
       "<div>\n",
       "<table border=\"1\" class=\"dataframe\">\n",
       "  <thead>\n",
       "    <tr style=\"text-align: right;\">\n",
       "      <th></th>\n",
       "      <th>c_0</th>\n",
       "      <th>c_1</th>\n",
       "      <th>c_2</th>\n",
       "      <th>c_3</th>\n",
       "      <th>c_4</th>\n",
       "      <th>c_5</th>\n",
       "      <th>c_6</th>\n",
       "      <th>c_7</th>\n",
       "      <th>c_8</th>\n",
       "      <th>c_9</th>\n",
       "      <th>...</th>\n",
       "      <th>c_448</th>\n",
       "      <th>c_449</th>\n",
       "      <th>c_450</th>\n",
       "      <th>c_451</th>\n",
       "      <th>c_452</th>\n",
       "      <th>c_453</th>\n",
       "      <th>c_454</th>\n",
       "      <th>c_455</th>\n",
       "      <th>c_456</th>\n",
       "      <th>id</th>\n",
       "    </tr>\n",
       "    <tr>\n",
       "      <th>id</th>\n",
       "      <th></th>\n",
       "      <th></th>\n",
       "      <th></th>\n",
       "      <th></th>\n",
       "      <th></th>\n",
       "      <th></th>\n",
       "      <th></th>\n",
       "      <th></th>\n",
       "      <th></th>\n",
       "      <th></th>\n",
       "      <th></th>\n",
       "      <th></th>\n",
       "      <th></th>\n",
       "      <th></th>\n",
       "      <th></th>\n",
       "      <th></th>\n",
       "      <th></th>\n",
       "      <th></th>\n",
       "      <th></th>\n",
       "      <th></th>\n",
       "      <th></th>\n",
       "    </tr>\n",
       "  </thead>\n",
       "  <tbody>\n",
       "    <tr>\n",
       "      <th>00023iyk9l</th>\n",
       "      <td>40.0</td>\n",
       "      <td>0.0</td>\n",
       "      <td>0.0</td>\n",
       "      <td>0.0</td>\n",
       "      <td>0.0</td>\n",
       "      <td>0.0</td>\n",
       "      <td>0.0</td>\n",
       "      <td>0.0</td>\n",
       "      <td>0.0</td>\n",
       "      <td>0.0</td>\n",
       "      <td>...</td>\n",
       "      <td>12.0</td>\n",
       "      <td>6.0</td>\n",
       "      <td>2.0</td>\n",
       "      <td>3.0</td>\n",
       "      <td>3.0</td>\n",
       "      <td>1.0</td>\n",
       "      <td>0.0</td>\n",
       "      <td>1.0</td>\n",
       "      <td>0.0</td>\n",
       "      <td>00023iyk9l</td>\n",
       "    </tr>\n",
       "    <tr>\n",
       "      <th>0010k6l0om</th>\n",
       "      <td>63.0</td>\n",
       "      <td>0.0</td>\n",
       "      <td>0.0</td>\n",
       "      <td>0.0</td>\n",
       "      <td>0.0</td>\n",
       "      <td>0.0</td>\n",
       "      <td>0.0</td>\n",
       "      <td>0.0</td>\n",
       "      <td>0.0</td>\n",
       "      <td>0.0</td>\n",
       "      <td>...</td>\n",
       "      <td>8.0</td>\n",
       "      <td>12.0</td>\n",
       "      <td>2.0</td>\n",
       "      <td>8.0</td>\n",
       "      <td>4.0</td>\n",
       "      <td>3.0</td>\n",
       "      <td>0.0</td>\n",
       "      <td>0.0</td>\n",
       "      <td>0.0</td>\n",
       "      <td>0010k6l0om</td>\n",
       "    </tr>\n",
       "    <tr>\n",
       "      <th>001wyh0pz8</th>\n",
       "      <td>90.0</td>\n",
       "      <td>0.0</td>\n",
       "      <td>0.0</td>\n",
       "      <td>0.0</td>\n",
       "      <td>0.0</td>\n",
       "      <td>0.0</td>\n",
       "      <td>0.0</td>\n",
       "      <td>0.0</td>\n",
       "      <td>0.0</td>\n",
       "      <td>0.0</td>\n",
       "      <td>...</td>\n",
       "      <td>27.0</td>\n",
       "      <td>30.0</td>\n",
       "      <td>9.0</td>\n",
       "      <td>8.0</td>\n",
       "      <td>1.0</td>\n",
       "      <td>0.0</td>\n",
       "      <td>0.0</td>\n",
       "      <td>0.0</td>\n",
       "      <td>0.0</td>\n",
       "      <td>001wyh0pz8</td>\n",
       "    </tr>\n",
       "    <tr>\n",
       "      <th>0028jgx1x1</th>\n",
       "      <td>31.0</td>\n",
       "      <td>0.0</td>\n",
       "      <td>0.0</td>\n",
       "      <td>0.0</td>\n",
       "      <td>0.0</td>\n",
       "      <td>0.0</td>\n",
       "      <td>0.0</td>\n",
       "      <td>0.0</td>\n",
       "      <td>0.0</td>\n",
       "      <td>0.0</td>\n",
       "      <td>...</td>\n",
       "      <td>1.0</td>\n",
       "      <td>2.0</td>\n",
       "      <td>3.0</td>\n",
       "      <td>5.0</td>\n",
       "      <td>4.0</td>\n",
       "      <td>1.0</td>\n",
       "      <td>0.0</td>\n",
       "      <td>0.0</td>\n",
       "      <td>0.0</td>\n",
       "      <td>0028jgx1x1</td>\n",
       "    </tr>\n",
       "    <tr>\n",
       "      <th>002qnbzfs5</th>\n",
       "      <td>789.0</td>\n",
       "      <td>0.0</td>\n",
       "      <td>0.0</td>\n",
       "      <td>0.0</td>\n",
       "      <td>0.0</td>\n",
       "      <td>0.0</td>\n",
       "      <td>0.0</td>\n",
       "      <td>0.0</td>\n",
       "      <td>0.0</td>\n",
       "      <td>0.0</td>\n",
       "      <td>...</td>\n",
       "      <td>111.0</td>\n",
       "      <td>102.0</td>\n",
       "      <td>104.0</td>\n",
       "      <td>57.0</td>\n",
       "      <td>28.0</td>\n",
       "      <td>9.0</td>\n",
       "      <td>4.0</td>\n",
       "      <td>1.0</td>\n",
       "      <td>1.0</td>\n",
       "      <td>002qnbzfs5</td>\n",
       "    </tr>\n",
       "  </tbody>\n",
       "</table>\n",
       "<p>5 rows × 458 columns</p>\n",
       "</div>"
      ],
      "text/plain": [
       "              c_0  c_1  c_2  c_3  c_4  c_5  c_6  c_7  c_8  c_9     ...      \\\n",
       "id                                                                 ...       \n",
       "00023iyk9l   40.0  0.0  0.0  0.0  0.0  0.0  0.0  0.0  0.0  0.0     ...       \n",
       "0010k6l0om   63.0  0.0  0.0  0.0  0.0  0.0  0.0  0.0  0.0  0.0     ...       \n",
       "001wyh0pz8   90.0  0.0  0.0  0.0  0.0  0.0  0.0  0.0  0.0  0.0     ...       \n",
       "0028jgx1x1   31.0  0.0  0.0  0.0  0.0  0.0  0.0  0.0  0.0  0.0     ...       \n",
       "002qnbzfs5  789.0  0.0  0.0  0.0  0.0  0.0  0.0  0.0  0.0  0.0     ...       \n",
       "\n",
       "            c_448  c_449  c_450  c_451  c_452  c_453  c_454  c_455  c_456  \\\n",
       "id                                                                          \n",
       "00023iyk9l   12.0    6.0    2.0    3.0    3.0    1.0    0.0    1.0    0.0   \n",
       "0010k6l0om    8.0   12.0    2.0    8.0    4.0    3.0    0.0    0.0    0.0   \n",
       "001wyh0pz8   27.0   30.0    9.0    8.0    1.0    0.0    0.0    0.0    0.0   \n",
       "0028jgx1x1    1.0    2.0    3.0    5.0    4.0    1.0    0.0    0.0    0.0   \n",
       "002qnbzfs5  111.0  102.0  104.0   57.0   28.0    9.0    4.0    1.0    1.0   \n",
       "\n",
       "                    id  \n",
       "id                      \n",
       "00023iyk9l  00023iyk9l  \n",
       "0010k6l0om  0010k6l0om  \n",
       "001wyh0pz8  001wyh0pz8  \n",
       "0028jgx1x1  0028jgx1x1  \n",
       "002qnbzfs5  002qnbzfs5  \n",
       "\n",
       "[5 rows x 458 columns]"
      ]
     },
     "execution_count": 63,
     "metadata": {},
     "output_type": "execute_result"
    }
   ],
   "source": [
    "df_agg_sess.head()"
   ]
  },
  {
   "cell_type": "markdown",
   "metadata": {},
   "source": [
    "#### Training & Testing Sets"
   ]
  },
  {
   "cell_type": "markdown",
   "metadata": {
    "collapsed": true
   },
   "source": [
    "#### Training set: \n",
    "0. unknown value is filled up with unknown or -1\n",
    "1. the date_first_booking is dropped\n",
    "2. the date account created is stored as year dac_y , month dac_m and day dac_d"
   ]
  },
  {
   "cell_type": "code",
   "execution_count": 13,
   "metadata": {
    "collapsed": false
   },
   "outputs": [
    {
     "name": "stdout",
     "output_type": "stream",
     "text": [
      "Working on users data...\n"
     ]
    }
   ],
   "source": [
    "#########Working on train and test data#####################\n",
    "print('Working on users data...')\n",
    "#Concatenating df_train and df_test\n",
    "df_tt = pd.concat((df_train, df_test), axis=0, ignore_index=True)\n",
    "df_tt.index = df_tt.id\n",
    "\n",
    "########Creating features for train+test\n",
    "#Removing date_first_booking\n",
    "df_tt = df_tt.drop(['date_first_booking'], axis=1)"
   ]
  },
  {
   "cell_type": "code",
   "execution_count": 14,
   "metadata": {
    "collapsed": false
   },
   "outputs": [
    {
     "data": {
      "text/plain": [
       "id                              0\n",
       "date_account_created            0\n",
       "timestamp_first_active          0\n",
       "gender                          0\n",
       "age                        116866\n",
       "signup_method                   0\n",
       "signup_flow                     0\n",
       "language                        0\n",
       "affiliate_channel               0\n",
       "affiliate_provider              0\n",
       "first_affiliate_tracked      6085\n",
       "signup_app                      0\n",
       "first_device_type               0\n",
       "first_browser                   0\n",
       "dtype: int64"
      ]
     },
     "execution_count": 14,
     "metadata": {},
     "output_type": "execute_result"
    }
   ],
   "source": [
    "#Number of missing values of every column\n",
    "df_tt.isnull().sum()"
   ]
  },
  {
   "cell_type": "code",
   "execution_count": 15,
   "metadata": {
    "collapsed": true
   },
   "outputs": [],
   "source": [
    "df_tt = df_tt.fillna(-1)  #Inputing this kind of missing value with -1 (missing values in train and test)\n",
    "df_tt = df_tt.replace('-unknown-', -1) #-unknown is another way of missing value, then = -1.\n",
    "\n",
    "#Number of nulls\n",
    "df_tt['n_null'] = np.array([sum(r == -1) for r in df_tt.values])"
   ]
  },
  {
   "cell_type": "code",
   "execution_count": 16,
   "metadata": {
    "collapsed": false
   },
   "outputs": [
    {
     "name": "stdout",
     "output_type": "stream",
     "text": [
      "0\n",
      "0\n",
      "0\n",
      "129480\n",
      "116866\n",
      "0\n",
      "0\n",
      "1\n",
      "0\n",
      "0\n",
      "6085\n",
      "0\n",
      "0\n",
      "44394\n",
      "0\n"
     ]
    }
   ],
   "source": [
    "for col in df_tt:\n",
    "    print sum(df_tt[col]==-1)"
   ]
  },
  {
   "cell_type": "markdown",
   "metadata": {},
   "source": [
    "Only consider to do something about gender,age, language, first_affiliate_tracked and first_browser."
   ]
  },
  {
   "cell_type": "code",
   "execution_count": 17,
   "metadata": {
    "collapsed": false
   },
   "outputs": [
    {
     "data": {
      "text/plain": [
       "Counter({-1: 129480, 'FEMALE': 77524, 'MALE': 68209, 'OTHER': 334})"
      ]
     },
     "execution_count": 17,
     "metadata": {},
     "output_type": "execute_result"
    }
   ],
   "source": [
    "Counter(df_tt.gender)"
   ]
  },
  {
   "cell_type": "markdown",
   "metadata": {},
   "source": [
    "We would do nothing."
   ]
  },
  {
   "cell_type": "code",
   "execution_count": 18,
   "metadata": {
    "collapsed": false
   },
   "outputs": [
    {
     "data": {
      "text/plain": [
       "id\n",
       "2a0p72u9mg    -1\n",
       "Name: language, dtype: object"
      ]
     },
     "execution_count": 18,
     "metadata": {},
     "output_type": "execute_result"
    }
   ],
   "source": [
    "df_tt.language[df_tt.language==-1]"
   ]
  },
  {
   "cell_type": "code",
   "execution_count": 19,
   "metadata": {
    "collapsed": false
   },
   "outputs": [],
   "source": [
    "df_tt = df_tt.set_value('2a0p72u9mg', 'language', 'en')"
   ]
  },
  {
   "cell_type": "code",
   "execution_count": 20,
   "metadata": {
    "collapsed": false
   },
   "outputs": [
    {
     "data": {
      "text/plain": [
       "Counter({'ca': 6,\n",
       "         'cs': 49,\n",
       "         'da': 75,\n",
       "         'de': 977,\n",
       "         'el': 30,\n",
       "         'en': 265539,\n",
       "         'es': 1174,\n",
       "         'fi': 20,\n",
       "         'fr': 1508,\n",
       "         'hr': 2,\n",
       "         'hu': 25,\n",
       "         'id': 23,\n",
       "         'is': 5,\n",
       "         'it': 633,\n",
       "         'ja': 345,\n",
       "         'ko': 1116,\n",
       "         'nl': 134,\n",
       "         'no': 51,\n",
       "         'pl': 75,\n",
       "         'pt': 322,\n",
       "         'ru': 508,\n",
       "         'sv': 176,\n",
       "         'th': 28,\n",
       "         'tr': 92,\n",
       "         'zh': 2634})"
      ]
     },
     "execution_count": 20,
     "metadata": {},
     "output_type": "execute_result"
    }
   ],
   "source": [
    "Counter(df_tt.language)"
   ]
  },
  {
   "cell_type": "code",
   "execution_count": 21,
   "metadata": {
    "collapsed": false
   },
   "outputs": [
    {
     "data": {
      "text/plain": [
       "Counter({-1: 6085,\n",
       "         'linked': 62064,\n",
       "         'local ops': 69,\n",
       "         'marketing': 281,\n",
       "         'omg': 54859,\n",
       "         'product': 2353,\n",
       "         'tracked-other': 6655,\n",
       "         'untracked': 143181})"
      ]
     },
     "execution_count": 21,
     "metadata": {},
     "output_type": "execute_result"
    }
   ],
   "source": [
    "Counter(df_tt.first_affiliate_tracked)\n",
    "#first_affiliate_tracked: whats the first marketing the user interacted with before the signing up"
   ]
  },
  {
   "cell_type": "code",
   "execution_count": 22,
   "metadata": {
    "collapsed": false
   },
   "outputs": [],
   "source": [
    "#Replace all -1 with untracked\n",
    "df_tt.first_affiliate_tracked = df_tt.first_affiliate_tracked.replace(-1, 'untracked')"
   ]
  },
  {
   "cell_type": "code",
   "execution_count": 23,
   "metadata": {
    "collapsed": false
   },
   "outputs": [
    {
     "data": {
      "text/plain": [
       "Counter({'linked': 62064,\n",
       "         'local ops': 69,\n",
       "         'marketing': 281,\n",
       "         'omg': 54859,\n",
       "         'product': 2353,\n",
       "         'tracked-other': 6655,\n",
       "         'untracked': 149266})"
      ]
     },
     "execution_count": 23,
     "metadata": {},
     "output_type": "execute_result"
    }
   ],
   "source": [
    "Counter(df_tt.first_affiliate_tracked)"
   ]
  },
  {
   "cell_type": "code",
   "execution_count": 24,
   "metadata": {
    "collapsed": false
   },
   "outputs": [
    {
     "data": {
      "text/plain": [
       "Counter({-1: 44394,\n",
       "         'AOL Explorer': 254,\n",
       "         'Android Browser': 1577,\n",
       "         'Apple Mail': 45,\n",
       "         'Arora': 1,\n",
       "         'Avant Browser': 4,\n",
       "         'BlackBerry Browser': 89,\n",
       "         'Camino': 9,\n",
       "         'Chrome': 78671,\n",
       "         'Chrome Mobile': 3186,\n",
       "         'Chromium': 83,\n",
       "         'CometBird': 12,\n",
       "         'Comodo Dragon': 2,\n",
       "         'Conkeror': 1,\n",
       "         'CoolNovo': 6,\n",
       "         'Crazy Browser': 2,\n",
       "         'Epic': 1,\n",
       "         'Firefox': 38665,\n",
       "         'Flock': 2,\n",
       "         'Google Earth': 1,\n",
       "         'Googlebot': 1,\n",
       "         'IBrowse': 1,\n",
       "         'IE': 24744,\n",
       "         'IE Mobile': 118,\n",
       "         'IceDragon': 1,\n",
       "         'IceWeasel': 14,\n",
       "         'Iron': 24,\n",
       "         'Kindle Browser': 1,\n",
       "         'Maxthon': 60,\n",
       "         'Mobile Firefox': 64,\n",
       "         'Mobile Safari': 29636,\n",
       "         'Mozilla': 3,\n",
       "         'NetNewsWire': 1,\n",
       "         'Nintendo Browser': 1,\n",
       "         'OmniWeb': 2,\n",
       "         'Opera': 228,\n",
       "         'Opera Mini': 8,\n",
       "         'Opera Mobile': 4,\n",
       "         'Outlook 2007': 1,\n",
       "         'PS Vita browser': 1,\n",
       "         'Pale Moon': 13,\n",
       "         'Palm Pre web browser': 1,\n",
       "         'RockMelt': 24,\n",
       "         'Safari': 53302,\n",
       "         'SeaMonkey': 12,\n",
       "         'Silk': 172,\n",
       "         'SiteKiosk': 27,\n",
       "         'SlimBrowser': 2,\n",
       "         'Sogou Explorer': 43,\n",
       "         'Stainless': 1,\n",
       "         'TenFourFox': 8,\n",
       "         'TheWorld Browser': 2,\n",
       "         'UC Browser': 1,\n",
       "         'Yandex.Browser': 14,\n",
       "         'wOSBrowser': 7})"
      ]
     },
     "execution_count": 24,
     "metadata": {},
     "output_type": "execute_result"
    }
   ],
   "source": [
    "Counter(df_tt.first_browser)"
   ]
  },
  {
   "cell_type": "code",
   "execution_count": 28,
   "metadata": {
    "collapsed": true
   },
   "outputs": [],
   "source": [
    "# first_browser values with low frequency are changed to 'OTHER'\n",
    "freq = 100  #Threshold for frequency\n",
    "browser = dict(zip(*np.unique(df_tt.first_browser, return_counts=True)))\n",
    "df_tt.first_browser = df_tt.first_browser.apply(lambda x: 'OTHER' if browser[x] < freq else x)"
   ]
  },
  {
   "cell_type": "code",
   "execution_count": 29,
   "metadata": {
    "collapsed": false
   },
   "outputs": [
    {
     "data": {
      "text/plain": [
       "Counter({-1: 44394,\n",
       "         'AOL Explorer': 254,\n",
       "         'Android Browser': 1577,\n",
       "         'Chrome': 78671,\n",
       "         'Chrome Mobile': 3186,\n",
       "         'Firefox': 38665,\n",
       "         'IE': 24744,\n",
       "         'IE Mobile': 118,\n",
       "         'Mobile Safari': 29636,\n",
       "         'OTHER': 600,\n",
       "         'Opera': 228,\n",
       "         'Safari': 53302,\n",
       "         'Silk': 172})"
      ]
     },
     "execution_count": 29,
     "metadata": {},
     "output_type": "execute_result"
    }
   ],
   "source": [
    "Counter(df_tt.first_browser)"
   ]
  },
  {
   "cell_type": "code",
   "execution_count": 30,
   "metadata": {
    "collapsed": true
   },
   "outputs": [],
   "source": [
    "#Replace -1 with Other\n",
    "df_tt.first_browser = df_tt.first_browser.replace(-1, 'OTHER')"
   ]
  },
  {
   "cell_type": "code",
   "execution_count": 31,
   "metadata": {
    "collapsed": false
   },
   "outputs": [
    {
     "data": {
      "text/plain": [
       "Counter({'AOL Explorer': 254,\n",
       "         'Android Browser': 1577,\n",
       "         'Chrome': 78671,\n",
       "         'Chrome Mobile': 3186,\n",
       "         'Firefox': 38665,\n",
       "         'IE': 24744,\n",
       "         'IE Mobile': 118,\n",
       "         'Mobile Safari': 29636,\n",
       "         'OTHER': 44994,\n",
       "         'Opera': 228,\n",
       "         'Safari': 53302,\n",
       "         'Silk': 172})"
      ]
     },
     "execution_count": 31,
     "metadata": {},
     "output_type": "execute_result"
    }
   ],
   "source": [
    "Counter(df_tt.first_browser)"
   ]
  },
  {
   "cell_type": "code",
   "execution_count": 32,
   "metadata": {
    "collapsed": false
   },
   "outputs": [],
   "source": [
    "#date_account_created\n",
    "#(Computing year, month, day, week_number, weekday)\n",
    "dac = np.vstack(df_tt.date_account_created.astype(str).apply(lambda x: list(map(int, x.split('-')))).values)\n",
    "df_tt['dac_y'] = dac[:,0]\n",
    "df_tt['dac_m'] = dac[:,1]\n",
    "df_tt['dac_d'] = dac[:,2]"
   ]
  },
  {
   "cell_type": "code",
   "execution_count": 33,
   "metadata": {
    "collapsed": true
   },
   "outputs": [],
   "source": [
    "dac_dates = [datetime(x[0],x[1],x[2]) for x in dac]"
   ]
  },
  {
   "cell_type": "code",
   "execution_count": 34,
   "metadata": {
    "collapsed": false
   },
   "outputs": [],
   "source": [
    "df_tt['dac_wn'] = np.array([d.isocalendar()[1] for d in dac_dates])"
   ]
  },
  {
   "cell_type": "code",
   "execution_count": 35,
   "metadata": {
    "collapsed": true
   },
   "outputs": [],
   "source": [
    "df_tt['dac_w'] = np.array([d.weekday() for d in dac_dates])"
   ]
  },
  {
   "cell_type": "code",
   "execution_count": 36,
   "metadata": {
    "collapsed": true
   },
   "outputs": [],
   "source": [
    "#t dummy variables\n",
    "df_tt_wd = pd.get_dummies(df_tt.dac_w, prefix='dac_w')"
   ]
  },
  {
   "cell_type": "code",
   "execution_count": 37,
   "metadata": {
    "collapsed": true
   },
   "outputs": [],
   "source": [
    "df_tt = df_tt.drop(['date_account_created', 'dac_w'], axis=1)\n",
    "df_tt = pd.concat((df_tt, df_tt_wd), axis=1)"
   ]
  },
  {
   "cell_type": "code",
   "execution_count": 38,
   "metadata": {
    "collapsed": true
   },
   "outputs": [],
   "source": [
    "#timestamp_first_active\n",
    "#(Computing year, month, day, hour, week_number, weekday)\n",
    "tfa = np.vstack(df_tt.timestamp_first_active.astype(str).apply(lambda x: list(map(int, [x[:4],x[4:6],x[6:8],x[8:10],x[10:12],x[12:14]]))).values)"
   ]
  },
  {
   "cell_type": "code",
   "execution_count": 39,
   "metadata": {
    "collapsed": false
   },
   "outputs": [
    {
     "data": {
      "text/plain": [
       "array([[2009,    3,   19,    4,   32,   55],\n",
       "       [2009,    5,   23,   17,   48,    9],\n",
       "       [2009,    6,    9,   23,   12,   47],\n",
       "       ..., \n",
       "       [2014,    9,   30,   23,   54,    8],\n",
       "       [2014,    9,   30,   23,   54,   30],\n",
       "       [2014,    9,   30,   23,   59,    1]])"
      ]
     },
     "execution_count": 39,
     "metadata": {},
     "output_type": "execute_result"
    }
   ],
   "source": [
    "tfa"
   ]
  },
  {
   "cell_type": "code",
   "execution_count": 40,
   "metadata": {
    "collapsed": true
   },
   "outputs": [],
   "source": [
    "df_tt['tfa_y'] = tfa[:,0]\n",
    "df_tt['tfa_m'] = tfa[:,1]\n",
    "df_tt['tfa_d'] = tfa[:,2]\n",
    "df_tt['tfa_h'] = tfa[:,3]"
   ]
  },
  {
   "cell_type": "code",
   "execution_count": 41,
   "metadata": {
    "collapsed": true
   },
   "outputs": [],
   "source": [
    "tfa_dates = [datetime(x[0],x[1],x[2],x[3],x[4],x[5]) for x in tfa]"
   ]
  },
  {
   "cell_type": "code",
   "execution_count": 42,
   "metadata": {
    "collapsed": true
   },
   "outputs": [],
   "source": [
    "df_tt['tfa_wn'] = np.array([d.isocalendar()[1] for d in tfa_dates])\n",
    "df_tt['tfa_w'] = np.array([d.weekday() for d in tfa_dates])\n",
    "df_tt_wd = pd.get_dummies(df_tt.tfa_w, prefix='tfa_w')\n",
    "df_tt = df_tt.drop(['timestamp_first_active', 'tfa_w'], axis=1)\n",
    "df_tt = pd.concat((df_tt, df_tt_wd), axis=1)"
   ]
  },
  {
   "cell_type": "code",
   "execution_count": 43,
   "metadata": {
    "collapsed": true
   },
   "outputs": [],
   "source": [
    "#timespans between dates: account created day and timestamp_first_active\n",
    "#(Computing absolute number of seconds of difference between dates, sign of the difference)\n",
    "df_tt['dac_tfa_secs'] = np.array([np.log(1+abs((dac_dates[i]-tfa_dates[i]).total_seconds())) for i in range(len(dac_dates))])\n",
    "df_tt['sig_dac_tfa'] = np.array([np.sign((dac_dates[i]-tfa_dates[i]).total_seconds()) for i in range(len(dac_dates))])\n",
    "#    df_tt['dac_tfa_days'] = np.array([np.sign((dac_dates[i]-tfa_dates[i]).days) for i in range(len(dac_dates))])"
   ]
  },
  {
   "cell_type": "code",
   "execution_count": 44,
   "metadata": {
    "collapsed": true
   },
   "outputs": [],
   "source": [
    "#Comptute seasons from dates\n",
    "#(Computing the season for the two dates)\n",
    "Y = 2000 # dummy leap year to allow input X-02-29 (leap day)\n",
    "seasons = [(0, (date(Y,  1,  1),  date(Y,  3, 20))),  #'winter'\n",
    "           (1, (date(Y,  3, 21),  date(Y,  6, 20))),  #'spring'\n",
    "           (2, (date(Y,  6, 21),  date(Y,  9, 22))),  #'summer'\n",
    "           (3, (date(Y,  9, 23),  date(Y, 12, 20))),  #'autumn'\n",
    "           (0, (date(Y, 12, 21),  date(Y, 12, 31)))]  #'winter'\n",
    "def get_season(dt):\n",
    "    dt = dt.date()\n",
    "    dt = dt.replace(year=Y)\n",
    "    return next(season for season, (start, end) in seasons\n",
    "                if start <= dt <= end)\n",
    "df_tt['season_dac'] = np.array([get_season(dt) for dt in dac_dates])\n",
    "df_tt['season_tfa'] = np.array([get_season(dt) for dt in tfa_dates])\n",
    "#df_all['season_dfb'] = np.array([get_season(dt) for dt in dfb_dates])"
   ]
  },
  {
   "cell_type": "code",
   "execution_count": 45,
   "metadata": {
    "collapsed": true
   },
   "outputs": [],
   "source": [
    "#Age\n",
    "#(Keeping ages in 14 < age < 99 as OK and grouping others according different kinds of mistakes)\n",
    "av = df_tt.age.values\n",
    "av = np.where(np.logical_and(av<2000, av>1900), 2014-av, av) #This are birthdays instead of age (estimating age by doing 2014 - value)\n",
    "av = np.where(np.logical_and(av<14, av>0), 14, av) #Using specific value=14 for age values below 14\n",
    "av = np.where(np.logical_and(av<2016, av>2010), -1, av) #This is the current year insted of age (using specific value = -1)"
   ]
  },
  {
   "cell_type": "code",
   "execution_count": 46,
   "metadata": {
    "collapsed": false
   },
   "outputs": [
    {
     "data": {
      "text/plain": [
       "Counter({-1.0: 117615,\n",
       "         14.0: 59,\n",
       "         15.0: 9,\n",
       "         16.0: 39,\n",
       "         17.0: 81,\n",
       "         18.0: 824,\n",
       "         19.0: 2024,\n",
       "         20.0: 896,\n",
       "         21.0: 1595,\n",
       "         22.0: 2508,\n",
       "         23.0: 3516,\n",
       "         24.0: 4571,\n",
       "         25.0: 6149,\n",
       "         26.0: 6745,\n",
       "         27.0: 7462,\n",
       "         28.0: 7687,\n",
       "         29.0: 7647,\n",
       "         30.0: 7712,\n",
       "         31.0: 7540,\n",
       "         32.0: 7187,\n",
       "         33.0: 6795,\n",
       "         34.0: 6176,\n",
       "         35.0: 5949,\n",
       "         36.0: 5032,\n",
       "         37.0: 4474,\n",
       "         38.0: 4091,\n",
       "         39.0: 3642,\n",
       "         40.0: 3327,\n",
       "         41.0: 3098,\n",
       "         42.0: 2731,\n",
       "         43.0: 2486,\n",
       "         44.0: 2584,\n",
       "         45.0: 2669,\n",
       "         46.0: 2318,\n",
       "         47.0: 2006,\n",
       "         48.0: 1779,\n",
       "         49.0: 1625,\n",
       "         50.0: 1679,\n",
       "         51.0: 1630,\n",
       "         52.0: 1459,\n",
       "         53.0: 1341,\n",
       "         54.0: 1248,\n",
       "         55.0: 1225,\n",
       "         56.0: 1130,\n",
       "         57.0: 1119,\n",
       "         58.0: 1005,\n",
       "         59.0: 938,\n",
       "         60.0: 884,\n",
       "         61.0: 817,\n",
       "         62.0: 726,\n",
       "         63.0: 682,\n",
       "         64.0: 645,\n",
       "         65.0: 647,\n",
       "         66.0: 516,\n",
       "         67.0: 482,\n",
       "         68.0: 445,\n",
       "         69.0: 347,\n",
       "         70.0: 305,\n",
       "         71.0: 218,\n",
       "         72.0: 220,\n",
       "         73.0: 176,\n",
       "         74.0: 141,\n",
       "         75.0: 116,\n",
       "         76.0: 88,\n",
       "         77.0: 86,\n",
       "         78.0: 61,\n",
       "         79.0: 61,\n",
       "         80.0: 56,\n",
       "         81.0: 36,\n",
       "         82.0: 31,\n",
       "         83.0: 34,\n",
       "         84.0: 25,\n",
       "         85.0: 34,\n",
       "         86.0: 36,\n",
       "         87.0: 37,\n",
       "         88.0: 17,\n",
       "         89.0: 19,\n",
       "         90.0: 24,\n",
       "         91.0: 16,\n",
       "         92.0: 19,\n",
       "         93.0: 21,\n",
       "         94.0: 19,\n",
       "         95.0: 61,\n",
       "         96.0: 27,\n",
       "         97.0: 13,\n",
       "         98.0: 17,\n",
       "         99.0: 19,\n",
       "         100.0: 31,\n",
       "         101.0: 40,\n",
       "         102.0: 39,\n",
       "         103.0: 30,\n",
       "         104.0: 52,\n",
       "         105.0: 1351,\n",
       "         106.0: 20,\n",
       "         107.0: 28,\n",
       "         108.0: 16,\n",
       "         109.0: 36,\n",
       "         110.0: 228,\n",
       "         111.0: 2,\n",
       "         112.0: 1,\n",
       "         113.0: 4,\n",
       "         115.0: 13,\n",
       "         132.0: 1,\n",
       "         150.0: 1,\n",
       "         2000.0: 1,\n",
       "         2001.0: 5,\n",
       "         2002.0: 1,\n",
       "         2008.0: 1})"
      ]
     },
     "execution_count": 46,
     "metadata": {},
     "output_type": "execute_result"
    }
   ],
   "source": [
    "Counter(av)"
   ]
  },
  {
   "cell_type": "code",
   "execution_count": 47,
   "metadata": {
    "collapsed": true
   },
   "outputs": [],
   "source": [
    "#A lot of ppl are 105, which is strange, set the value to be -1.\n",
    "av = np.where(av == 105, -1, av)  #Using specific value=99 for age values above 99\n",
    "av = np.where(av > 99, 99, av)  #Using specific value=99 for age values above 99"
   ]
  },
  {
   "cell_type": "code",
   "execution_count": 48,
   "metadata": {
    "collapsed": false
   },
   "outputs": [
    {
     "data": {
      "text/plain": [
       "118966"
      ]
     },
     "execution_count": 48,
     "metadata": {},
     "output_type": "execute_result"
    }
   ],
   "source": [
    "sum(av==-1)#Number of missing value"
   ]
  },
  {
   "cell_type": "code",
   "execution_count": 49,
   "metadata": {
    "collapsed": false
   },
   "outputs": [],
   "source": [
    "av_pop = av[av>0]#Get non-missing the values of age"
   ]
  },
  {
   "cell_type": "code",
   "execution_count": 50,
   "metadata": {
    "collapsed": false
   },
   "outputs": [
    {
     "data": {
      "text/plain": [
       "156581"
      ]
     },
     "execution_count": 50,
     "metadata": {},
     "output_type": "execute_result"
    }
   ],
   "source": [
    "len(av_pop)"
   ]
  },
  {
   "cell_type": "code",
   "execution_count": 51,
   "metadata": {
    "collapsed": false
   },
   "outputs": [],
   "source": [
    "#For the missing data of age, interpolate it according to the sample age distribution\n",
    "av[av==-1]=np.random.choice(av_pop,118966,replace=True)"
   ]
  },
  {
   "cell_type": "code",
   "execution_count": 52,
   "metadata": {
    "collapsed": false
   },
   "outputs": [],
   "source": [
    "df_tt['age'] = av"
   ]
  },
  {
   "cell_type": "code",
   "execution_count": 53,
   "metadata": {
    "collapsed": true
   },
   "outputs": [],
   "source": [
    "#AgeRange\n",
    "#(One-hot encoding of the edge according these intervals)\n",
    "interv =  [10, 15, 20, 25, 30, 35, 40, 45, 50, 55, 60, 65, 70, 75, 80, 85, 90, 100]\n",
    "def get_interv_value(age):\n",
    "    iv = 20\n",
    "    for i in range(len(interv)):\n",
    "        if age < interv[i]:\n",
    "            iv = i \n",
    "            break\n",
    "    return iv\n",
    "df_tt['age_interv'] = df_tt.age.apply(lambda x: get_interv_value(x))\n",
    "df_tt_ai = pd.get_dummies(df_tt.age_interv, prefix='age_interv')\n",
    "df_tt = df_tt.drop(['age_interv'], axis=1)\n",
    "df_tt = pd.concat((df_tt, df_tt_ai), axis=1)"
   ]
  },
  {
   "cell_type": "code",
   "execution_count": 54,
   "metadata": {
    "collapsed": true
   },
   "outputs": [],
   "source": [
    "#One-hot-encoding features\n",
    "ohe_feats = ['gender', 'signup_method', 'signup_flow', 'language', 'affiliate_channel', 'affiliate_provider', 'first_affiliate_tracked', 'signup_app', 'first_device_type', 'first_browser']\n",
    "for f in ohe_feats:\n",
    "    df_tt_dummy = pd.get_dummies(df_tt[f], prefix=f)\n",
    "    df_tt = df_tt.drop([f], axis=1)\n",
    "    df_tt = pd.concat((df_tt, df_tt_dummy), axis=1)   "
   ]
  },
  {
   "cell_type": "code",
   "execution_count": 55,
   "metadata": {
    "collapsed": false
   },
   "outputs": [
    {
     "data": {
      "text/plain": [
       "(275547, 156)"
      ]
     },
     "execution_count": 55,
     "metadata": {},
     "output_type": "execute_result"
    }
   ],
   "source": [
    "df_tt.shape #We have 156 variables"
   ]
  },
  {
   "cell_type": "code",
   "execution_count": 71,
   "metadata": {
    "collapsed": false
   },
   "outputs": [],
   "source": [
    "######Merging train-test with session data#################\n",
    "#Different from the original code, I keep the id column as we need for submiting data\n",
    "df_all = pd.merge(df_tt, df_agg_sess, how='left')\n",
    "df_all = df_all.fillna(-2)  #Missing features for samples without sesssion data.\n",
    "#All types of null \n",
    "df_all['all_null'] = np.array([sum(r<0) for r in df_all.values])"
   ]
  },
  {
   "cell_type": "code",
   "execution_count": 91,
   "metadata": {
    "collapsed": false
   },
   "outputs": [
    {
     "name": "stdout",
     "output_type": "stream",
     "text": [
      "Shape X = (213451, 614), Shape X_test = (62096, 614)\n"
     ]
    }
   ],
   "source": [
    "######Computing X, y and X_test ################\n",
    "piv_train = len(target) #Marker to split df_all into train + test\n",
    "le = LabelEncoder()\n",
    "\n",
    "X = df_all[:piv_train]\n",
    "y = le.fit_transform(target.values)\n",
    "X_test = df_all[piv_train:]\n",
    "print('Shape X = %s, Shape X_test = %s'%(X.shape, X_test.shape))"
   ]
  },
  {
   "cell_type": "code",
   "execution_count": 94,
   "metadata": {
    "collapsed": false
   },
   "outputs": [],
   "source": [
    "#Save out the X_test\n",
    "X_test.to_csv('X_test.csv')"
   ]
  },
  {
   "cell_type": "code",
   "execution_count": 96,
   "metadata": {
    "collapsed": false
   },
   "outputs": [
    {
     "name": "stderr",
     "output_type": "stream",
     "text": [
      "C:\\Program Files\\Anaconda2\\lib\\site-packages\\ipykernel\\__main__.py:2: SettingWithCopyWarning: \n",
      "A value is trying to be set on a copy of a slice from a DataFrame.\n",
      "Try using .loc[row_indexer,col_indexer] = value instead\n",
      "\n",
      "See the caveats in the documentation: http://pandas.pydata.org/pandas-docs/stable/indexing.html#indexing-view-versus-copy\n",
      "  from ipykernel import kernelapp as app\n"
     ]
    }
   ],
   "source": [
    "#Combine the X and y\n",
    "X['y'] = y"
   ]
  },
  {
   "cell_type": "code",
   "execution_count": 100,
   "metadata": {
    "collapsed": false
   },
   "outputs": [
    {
     "data": {
      "text/html": [
       "<div>\n",
       "<table border=\"1\" class=\"dataframe\">\n",
       "  <thead>\n",
       "    <tr style=\"text-align: right;\">\n",
       "      <th></th>\n",
       "      <th>id</th>\n",
       "      <th>age</th>\n",
       "      <th>n_null</th>\n",
       "      <th>dac_y</th>\n",
       "      <th>dac_m</th>\n",
       "      <th>dac_d</th>\n",
       "      <th>dac_wn</th>\n",
       "      <th>dac_w_0</th>\n",
       "      <th>dac_w_1</th>\n",
       "      <th>dac_w_2</th>\n",
       "      <th>...</th>\n",
       "      <th>c_449</th>\n",
       "      <th>c_450</th>\n",
       "      <th>c_451</th>\n",
       "      <th>c_452</th>\n",
       "      <th>c_453</th>\n",
       "      <th>c_454</th>\n",
       "      <th>c_455</th>\n",
       "      <th>c_456</th>\n",
       "      <th>all_null</th>\n",
       "      <th>y</th>\n",
       "    </tr>\n",
       "  </thead>\n",
       "  <tbody>\n",
       "    <tr>\n",
       "      <th>0</th>\n",
       "      <td>gxn3p5htnn</td>\n",
       "      <td>24.0</td>\n",
       "      <td>2</td>\n",
       "      <td>2010</td>\n",
       "      <td>6</td>\n",
       "      <td>28</td>\n",
       "      <td>26</td>\n",
       "      <td>1</td>\n",
       "      <td>0</td>\n",
       "      <td>0</td>\n",
       "      <td>...</td>\n",
       "      <td>-2.0</td>\n",
       "      <td>-2.0</td>\n",
       "      <td>-2.0</td>\n",
       "      <td>-2.0</td>\n",
       "      <td>-2.0</td>\n",
       "      <td>-2.0</td>\n",
       "      <td>-2.0</td>\n",
       "      <td>-2.0</td>\n",
       "      <td>457</td>\n",
       "      <td>7</td>\n",
       "    </tr>\n",
       "    <tr>\n",
       "      <th>1</th>\n",
       "      <td>820tgsjxq7</td>\n",
       "      <td>38.0</td>\n",
       "      <td>0</td>\n",
       "      <td>2011</td>\n",
       "      <td>5</td>\n",
       "      <td>25</td>\n",
       "      <td>21</td>\n",
       "      <td>0</td>\n",
       "      <td>0</td>\n",
       "      <td>1</td>\n",
       "      <td>...</td>\n",
       "      <td>-2.0</td>\n",
       "      <td>-2.0</td>\n",
       "      <td>-2.0</td>\n",
       "      <td>-2.0</td>\n",
       "      <td>-2.0</td>\n",
       "      <td>-2.0</td>\n",
       "      <td>-2.0</td>\n",
       "      <td>-2.0</td>\n",
       "      <td>457</td>\n",
       "      <td>7</td>\n",
       "    </tr>\n",
       "    <tr>\n",
       "      <th>2</th>\n",
       "      <td>4ft3gnwmtx</td>\n",
       "      <td>56.0</td>\n",
       "      <td>0</td>\n",
       "      <td>2010</td>\n",
       "      <td>9</td>\n",
       "      <td>28</td>\n",
       "      <td>39</td>\n",
       "      <td>0</td>\n",
       "      <td>1</td>\n",
       "      <td>0</td>\n",
       "      <td>...</td>\n",
       "      <td>-2.0</td>\n",
       "      <td>-2.0</td>\n",
       "      <td>-2.0</td>\n",
       "      <td>-2.0</td>\n",
       "      <td>-2.0</td>\n",
       "      <td>-2.0</td>\n",
       "      <td>-2.0</td>\n",
       "      <td>-2.0</td>\n",
       "      <td>457</td>\n",
       "      <td>10</td>\n",
       "    </tr>\n",
       "    <tr>\n",
       "      <th>3</th>\n",
       "      <td>bjjt8pjhuk</td>\n",
       "      <td>42.0</td>\n",
       "      <td>0</td>\n",
       "      <td>2011</td>\n",
       "      <td>12</td>\n",
       "      <td>5</td>\n",
       "      <td>49</td>\n",
       "      <td>1</td>\n",
       "      <td>0</td>\n",
       "      <td>0</td>\n",
       "      <td>...</td>\n",
       "      <td>-2.0</td>\n",
       "      <td>-2.0</td>\n",
       "      <td>-2.0</td>\n",
       "      <td>-2.0</td>\n",
       "      <td>-2.0</td>\n",
       "      <td>-2.0</td>\n",
       "      <td>-2.0</td>\n",
       "      <td>-2.0</td>\n",
       "      <td>457</td>\n",
       "      <td>11</td>\n",
       "    </tr>\n",
       "    <tr>\n",
       "      <th>4</th>\n",
       "      <td>87mebub9p4</td>\n",
       "      <td>41.0</td>\n",
       "      <td>1</td>\n",
       "      <td>2010</td>\n",
       "      <td>9</td>\n",
       "      <td>14</td>\n",
       "      <td>37</td>\n",
       "      <td>0</td>\n",
       "      <td>1</td>\n",
       "      <td>0</td>\n",
       "      <td>...</td>\n",
       "      <td>-2.0</td>\n",
       "      <td>-2.0</td>\n",
       "      <td>-2.0</td>\n",
       "      <td>-2.0</td>\n",
       "      <td>-2.0</td>\n",
       "      <td>-2.0</td>\n",
       "      <td>-2.0</td>\n",
       "      <td>-2.0</td>\n",
       "      <td>457</td>\n",
       "      <td>10</td>\n",
       "    </tr>\n",
       "  </tbody>\n",
       "</table>\n",
       "<p>5 rows × 615 columns</p>\n",
       "</div>"
      ],
      "text/plain": [
       "           id   age  n_null  dac_y  dac_m  dac_d  dac_wn  dac_w_0  dac_w_1  \\\n",
       "0  gxn3p5htnn  24.0       2   2010      6     28      26        1        0   \n",
       "1  820tgsjxq7  38.0       0   2011      5     25      21        0        0   \n",
       "2  4ft3gnwmtx  56.0       0   2010      9     28      39        0        1   \n",
       "3  bjjt8pjhuk  42.0       0   2011     12      5      49        1        0   \n",
       "4  87mebub9p4  41.0       1   2010      9     14      37        0        1   \n",
       "\n",
       "   dac_w_2 ...  c_449  c_450  c_451  c_452  c_453  c_454  c_455  c_456  \\\n",
       "0        0 ...   -2.0   -2.0   -2.0   -2.0   -2.0   -2.0   -2.0   -2.0   \n",
       "1        1 ...   -2.0   -2.0   -2.0   -2.0   -2.0   -2.0   -2.0   -2.0   \n",
       "2        0 ...   -2.0   -2.0   -2.0   -2.0   -2.0   -2.0   -2.0   -2.0   \n",
       "3        0 ...   -2.0   -2.0   -2.0   -2.0   -2.0   -2.0   -2.0   -2.0   \n",
       "4        0 ...   -2.0   -2.0   -2.0   -2.0   -2.0   -2.0   -2.0   -2.0   \n",
       "\n",
       "   all_null   y  \n",
       "0       457   7  \n",
       "1       457   7  \n",
       "2       457  10  \n",
       "3       457  11  \n",
       "4       457  10  \n",
       "\n",
       "[5 rows x 615 columns]"
      ]
     },
     "execution_count": 100,
     "metadata": {},
     "output_type": "execute_result"
    }
   ],
   "source": [
    "X.head()"
   ]
  },
  {
   "cell_type": "code",
   "execution_count": 104,
   "metadata": {
    "collapsed": true
   },
   "outputs": [],
   "source": [
    "# Get the subset of the original X dataset, drop all users without sessions info\n",
    "users_train_insession = pd.Series(list(set(X[\"id\"]).intersection(set(df_agg_sess['id']))))\n",
    "X_train = X[X['id'].isin(list(users_train_insession))]\n",
    "#test"
   ]
  },
  {
   "cell_type": "code",
   "execution_count": 105,
   "metadata": {
    "collapsed": false
   },
   "outputs": [
    {
     "data": {
      "text/html": [
       "<div>\n",
       "<table border=\"1\" class=\"dataframe\">\n",
       "  <thead>\n",
       "    <tr style=\"text-align: right;\">\n",
       "      <th></th>\n",
       "      <th>id</th>\n",
       "      <th>age</th>\n",
       "      <th>n_null</th>\n",
       "      <th>dac_y</th>\n",
       "      <th>dac_m</th>\n",
       "      <th>dac_d</th>\n",
       "      <th>dac_wn</th>\n",
       "      <th>dac_w_0</th>\n",
       "      <th>dac_w_1</th>\n",
       "      <th>dac_w_2</th>\n",
       "      <th>...</th>\n",
       "      <th>c_449</th>\n",
       "      <th>c_450</th>\n",
       "      <th>c_451</th>\n",
       "      <th>c_452</th>\n",
       "      <th>c_453</th>\n",
       "      <th>c_454</th>\n",
       "      <th>c_455</th>\n",
       "      <th>c_456</th>\n",
       "      <th>all_null</th>\n",
       "      <th>y</th>\n",
       "    </tr>\n",
       "  </thead>\n",
       "  <tbody>\n",
       "    <tr>\n",
       "      <th>137021</th>\n",
       "      <td>d1mm9tcy42</td>\n",
       "      <td>62.0</td>\n",
       "      <td>0</td>\n",
       "      <td>2014</td>\n",
       "      <td>1</td>\n",
       "      <td>1</td>\n",
       "      <td>1</td>\n",
       "      <td>0</td>\n",
       "      <td>0</td>\n",
       "      <td>1</td>\n",
       "      <td>...</td>\n",
       "      <td>15.0</td>\n",
       "      <td>4.0</td>\n",
       "      <td>9.0</td>\n",
       "      <td>10.0</td>\n",
       "      <td>14.0</td>\n",
       "      <td>5.0</td>\n",
       "      <td>1.0</td>\n",
       "      <td>0.0</td>\n",
       "      <td>1</td>\n",
       "      <td>11</td>\n",
       "    </tr>\n",
       "    <tr>\n",
       "      <th>137022</th>\n",
       "      <td>yo8nz8bqcq</td>\n",
       "      <td>28.0</td>\n",
       "      <td>2</td>\n",
       "      <td>2014</td>\n",
       "      <td>1</td>\n",
       "      <td>1</td>\n",
       "      <td>1</td>\n",
       "      <td>0</td>\n",
       "      <td>0</td>\n",
       "      <td>1</td>\n",
       "      <td>...</td>\n",
       "      <td>1.0</td>\n",
       "      <td>2.0</td>\n",
       "      <td>2.0</td>\n",
       "      <td>1.0</td>\n",
       "      <td>1.0</td>\n",
       "      <td>0.0</td>\n",
       "      <td>0.0</td>\n",
       "      <td>0.0</td>\n",
       "      <td>1</td>\n",
       "      <td>7</td>\n",
       "    </tr>\n",
       "    <tr>\n",
       "      <th>137023</th>\n",
       "      <td>4grx6yxeby</td>\n",
       "      <td>35.0</td>\n",
       "      <td>2</td>\n",
       "      <td>2014</td>\n",
       "      <td>1</td>\n",
       "      <td>1</td>\n",
       "      <td>1</td>\n",
       "      <td>0</td>\n",
       "      <td>0</td>\n",
       "      <td>1</td>\n",
       "      <td>...</td>\n",
       "      <td>1.0</td>\n",
       "      <td>1.0</td>\n",
       "      <td>0.0</td>\n",
       "      <td>1.0</td>\n",
       "      <td>6.0</td>\n",
       "      <td>2.0</td>\n",
       "      <td>0.0</td>\n",
       "      <td>0.0</td>\n",
       "      <td>1</td>\n",
       "      <td>7</td>\n",
       "    </tr>\n",
       "    <tr>\n",
       "      <th>137024</th>\n",
       "      <td>ncf87guaf0</td>\n",
       "      <td>44.0</td>\n",
       "      <td>2</td>\n",
       "      <td>2014</td>\n",
       "      <td>1</td>\n",
       "      <td>1</td>\n",
       "      <td>1</td>\n",
       "      <td>0</td>\n",
       "      <td>0</td>\n",
       "      <td>1</td>\n",
       "      <td>...</td>\n",
       "      <td>28.0</td>\n",
       "      <td>29.0</td>\n",
       "      <td>7.0</td>\n",
       "      <td>6.0</td>\n",
       "      <td>7.0</td>\n",
       "      <td>7.0</td>\n",
       "      <td>1.0</td>\n",
       "      <td>0.0</td>\n",
       "      <td>1</td>\n",
       "      <td>7</td>\n",
       "    </tr>\n",
       "    <tr>\n",
       "      <th>137025</th>\n",
       "      <td>4rvqpxoh3h</td>\n",
       "      <td>40.0</td>\n",
       "      <td>3</td>\n",
       "      <td>2014</td>\n",
       "      <td>1</td>\n",
       "      <td>1</td>\n",
       "      <td>1</td>\n",
       "      <td>0</td>\n",
       "      <td>0</td>\n",
       "      <td>1</td>\n",
       "      <td>...</td>\n",
       "      <td>0.0</td>\n",
       "      <td>0.0</td>\n",
       "      <td>0.0</td>\n",
       "      <td>0.0</td>\n",
       "      <td>0.0</td>\n",
       "      <td>0.0</td>\n",
       "      <td>0.0</td>\n",
       "      <td>0.0</td>\n",
       "      <td>1</td>\n",
       "      <td>5</td>\n",
       "    </tr>\n",
       "  </tbody>\n",
       "</table>\n",
       "<p>5 rows × 615 columns</p>\n",
       "</div>"
      ],
      "text/plain": [
       "                id   age  n_null  dac_y  dac_m  dac_d  dac_wn  dac_w_0  \\\n",
       "137021  d1mm9tcy42  62.0       0   2014      1      1       1        0   \n",
       "137022  yo8nz8bqcq  28.0       2   2014      1      1       1        0   \n",
       "137023  4grx6yxeby  35.0       2   2014      1      1       1        0   \n",
       "137024  ncf87guaf0  44.0       2   2014      1      1       1        0   \n",
       "137025  4rvqpxoh3h  40.0       3   2014      1      1       1        0   \n",
       "\n",
       "        dac_w_1  dac_w_2 ...  c_449  c_450  c_451  c_452  c_453  c_454  c_455  \\\n",
       "137021        0        1 ...   15.0    4.0    9.0   10.0   14.0    5.0    1.0   \n",
       "137022        0        1 ...    1.0    2.0    2.0    1.0    1.0    0.0    0.0   \n",
       "137023        0        1 ...    1.0    1.0    0.0    1.0    6.0    2.0    0.0   \n",
       "137024        0        1 ...   28.0   29.0    7.0    6.0    7.0    7.0    1.0   \n",
       "137025        0        1 ...    0.0    0.0    0.0    0.0    0.0    0.0    0.0   \n",
       "\n",
       "        c_456  all_null   y  \n",
       "137021    0.0         1  11  \n",
       "137022    0.0         1   7  \n",
       "137023    0.0         1   7  \n",
       "137024    0.0         1   7  \n",
       "137025    0.0         1   5  \n",
       "\n",
       "[5 rows x 615 columns]"
      ]
     },
     "execution_count": 105,
     "metadata": {},
     "output_type": "execute_result"
    }
   ],
   "source": [
    "X_train.head()"
   ]
  },
  {
   "cell_type": "code",
   "execution_count": 106,
   "metadata": {
    "collapsed": false
   },
   "outputs": [
    {
     "data": {
      "text/plain": [
       "(73815, 615)"
      ]
     },
     "execution_count": 106,
     "metadata": {},
     "output_type": "execute_result"
    }
   ],
   "source": [
    "X_train.shape"
   ]
  },
  {
   "cell_type": "code",
   "execution_count": 108,
   "metadata": {
    "collapsed": true
   },
   "outputs": [],
   "source": [
    "X_train.to_csv('X_train.csv')"
   ]
  },
  {
   "cell_type": "code",
   "execution_count": null,
   "metadata": {
    "collapsed": true
   },
   "outputs": [],
   "source": []
  }
 ],
 "metadata": {
  "anaconda-cloud": {},
  "kernelspec": {
   "display_name": "Python [default]",
   "language": "python",
   "name": "python2"
  },
  "language_info": {
   "codemirror_mode": {
    "name": "ipython",
    "version": 2
   },
   "file_extension": ".py",
   "mimetype": "text/x-python",
   "name": "python",
   "nbconvert_exporter": "python",
   "pygments_lexer": "ipython2",
   "version": "2.7.12"
  }
 },
 "nbformat": 4,
 "nbformat_minor": 2
}
