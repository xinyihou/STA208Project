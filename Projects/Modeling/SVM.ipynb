{
 "cells": [
  {
   "cell_type": "code",
   "execution_count": 1,
   "metadata": {
    "collapsed": false
   },
   "outputs": [],
   "source": [
    "import numpy as np\n",
    "import pandas as pd\n",
    "from sklearn.preprocessing import scale\n",
    "from sklearn.model_selection import StratifiedShuffleSplit\n",
    "from sklearn.model_selection import GridSearchCV\n",
    "from sklearn.svm import SVC\n",
    "from sklearn.model_selection import train_test_split\n",
    "from sklearn.metrics import confusion_matrix, classification_report, precision_recall_curve, roc_curve,auc\n",
    "import matplotlib.pyplot as plt\n",
    "import timeit\n",
    "from sklearn.preprocessing import MinMaxScaler\n",
    "from sklearn.decomposition import PCA\n",
    "from collections import Counter"
   ]
  },
  {
   "cell_type": "code",
   "execution_count": 2,
   "metadata": {
    "collapsed": false
   },
   "outputs": [],
   "source": [
    "#Import train and test set:\n",
    "X_train = pd.read_csv('X_train_8.csv')\n",
    "X_test = pd.read_csv('X_test_2.csv')\n",
    "y_train = pd.read_csv('y_train.csv',header=None)\n",
    "y_test = pd.read_csv('y_test.csv',header=None)"
   ]
  },
  {
   "cell_type": "markdown",
   "metadata": {},
   "source": [
    "<h2>SVM"
   ]
  },
  {
   "cell_type": "markdown",
   "metadata": {},
   "source": [
    "The SVM(Support Vector Machine) is a well-known supervised learning models for both classification and regression. However, it is mostly used in classification problem and is effective in high dimensional spaces.We use the SVC function of sklearn and the default decision function shape is 'one_over_one' for the multiclassification problem. We try both of the linear and RBF kernel. We split the traning data into new training and testing set to tune the parameters. For the linear kernel SVM, we tune the parameter C and the best one is C=1. For the RBF kernel, we tune C and gamma. The best combination is C=1 and gamma=0.1. To speed the algorithm, I use the MinMaxScaler function of sklearn to scale the data and apply PCA to do the demension reduction. In the end, we only keep 40 components. The highest accuracy of the linear kernel is 0.66842782632256315 when C=10. Compared with C=1, the accuracy just increases 0.01%, but the computing time is 4 times as before. To get a balance between the accuracy and computation time, we choose C=1 for the linear kernel SVM. For the RBF kernel, the highest accuracy is 0.6779109937 when C=1 and gamma=0.1. The running time of this RBF kernel(C=1,gamma=0.1) is three times of the linear kernel(C=1). For the final model, we only fit the linear kernel with C=1. "
   ]
  },
  {
   "cell_type": "markdown",
   "metadata": {},
   "source": [
    "The time complexity of SVM algorithm is $O(vn^2)$, where v is the number of features and n is the number of samples. When I try to fit the model using all 613 features, the fitting time of one model is longer than 3 hours(My laptop, Intel Core i7, 8G RAM).Thus, I decide to use the PCA to do the dimension reduction. \n",
    "\n",
    "Before using the PCA, I combine the X_test and X_train data:"
   ]
  },
  {
   "cell_type": "code",
   "execution_count": 3,
   "metadata": {
    "collapsed": false
   },
   "outputs": [],
   "source": [
    "#Combine X_train and X_test\n",
    "X_all = pd.concat((X_train, X_test), axis=0, ignore_index=True)"
   ]
  },
  {
   "cell_type": "code",
   "execution_count": 4,
   "metadata": {
    "collapsed": false
   },
   "outputs": [
    {
     "data": {
      "text/html": [
       "<div>\n",
       "<table border=\"1\" class=\"dataframe\">\n",
       "  <thead>\n",
       "    <tr style=\"text-align: right;\">\n",
       "      <th></th>\n",
       "      <th>age</th>\n",
       "      <th>n_null</th>\n",
       "      <th>dac_y</th>\n",
       "      <th>dac_m</th>\n",
       "      <th>dac_d</th>\n",
       "      <th>dac_wn</th>\n",
       "      <th>dac_w_0</th>\n",
       "      <th>dac_w_1</th>\n",
       "      <th>dac_w_2</th>\n",
       "      <th>dac_w_3</th>\n",
       "      <th>...</th>\n",
       "      <th>c_448</th>\n",
       "      <th>c_449</th>\n",
       "      <th>c_450</th>\n",
       "      <th>c_451</th>\n",
       "      <th>c_452</th>\n",
       "      <th>c_453</th>\n",
       "      <th>c_454</th>\n",
       "      <th>c_455</th>\n",
       "      <th>c_456</th>\n",
       "      <th>all_null</th>\n",
       "    </tr>\n",
       "  </thead>\n",
       "  <tbody>\n",
       "    <tr>\n",
       "      <th>0</th>\n",
       "      <td>53.0</td>\n",
       "      <td>2</td>\n",
       "      <td>2014</td>\n",
       "      <td>2</td>\n",
       "      <td>7</td>\n",
       "      <td>6</td>\n",
       "      <td>0</td>\n",
       "      <td>0</td>\n",
       "      <td>0</td>\n",
       "      <td>0</td>\n",
       "      <td>...</td>\n",
       "      <td>2.0</td>\n",
       "      <td>2.0</td>\n",
       "      <td>0.0</td>\n",
       "      <td>1.0</td>\n",
       "      <td>1.0</td>\n",
       "      <td>0.0</td>\n",
       "      <td>0.0</td>\n",
       "      <td>0.0</td>\n",
       "      <td>0.0</td>\n",
       "      <td>1</td>\n",
       "    </tr>\n",
       "    <tr>\n",
       "      <th>1</th>\n",
       "      <td>30.0</td>\n",
       "      <td>2</td>\n",
       "      <td>2014</td>\n",
       "      <td>3</td>\n",
       "      <td>17</td>\n",
       "      <td>12</td>\n",
       "      <td>1</td>\n",
       "      <td>0</td>\n",
       "      <td>0</td>\n",
       "      <td>0</td>\n",
       "      <td>...</td>\n",
       "      <td>6.0</td>\n",
       "      <td>12.0</td>\n",
       "      <td>4.0</td>\n",
       "      <td>5.0</td>\n",
       "      <td>2.0</td>\n",
       "      <td>1.0</td>\n",
       "      <td>0.0</td>\n",
       "      <td>0.0</td>\n",
       "      <td>0.0</td>\n",
       "      <td>1</td>\n",
       "    </tr>\n",
       "    <tr>\n",
       "      <th>2</th>\n",
       "      <td>40.0</td>\n",
       "      <td>3</td>\n",
       "      <td>2014</td>\n",
       "      <td>6</td>\n",
       "      <td>27</td>\n",
       "      <td>26</td>\n",
       "      <td>0</td>\n",
       "      <td>0</td>\n",
       "      <td>0</td>\n",
       "      <td>0</td>\n",
       "      <td>...</td>\n",
       "      <td>7.0</td>\n",
       "      <td>9.0</td>\n",
       "      <td>5.0</td>\n",
       "      <td>15.0</td>\n",
       "      <td>20.0</td>\n",
       "      <td>3.0</td>\n",
       "      <td>0.0</td>\n",
       "      <td>1.0</td>\n",
       "      <td>0.0</td>\n",
       "      <td>1</td>\n",
       "    </tr>\n",
       "    <tr>\n",
       "      <th>3</th>\n",
       "      <td>23.0</td>\n",
       "      <td>0</td>\n",
       "      <td>2014</td>\n",
       "      <td>5</td>\n",
       "      <td>2</td>\n",
       "      <td>18</td>\n",
       "      <td>0</td>\n",
       "      <td>0</td>\n",
       "      <td>0</td>\n",
       "      <td>0</td>\n",
       "      <td>...</td>\n",
       "      <td>7.0</td>\n",
       "      <td>4.0</td>\n",
       "      <td>3.0</td>\n",
       "      <td>18.0</td>\n",
       "      <td>6.0</td>\n",
       "      <td>2.0</td>\n",
       "      <td>3.0</td>\n",
       "      <td>0.0</td>\n",
       "      <td>1.0</td>\n",
       "      <td>1</td>\n",
       "    </tr>\n",
       "    <tr>\n",
       "      <th>4</th>\n",
       "      <td>19.0</td>\n",
       "      <td>1</td>\n",
       "      <td>2014</td>\n",
       "      <td>6</td>\n",
       "      <td>2</td>\n",
       "      <td>23</td>\n",
       "      <td>1</td>\n",
       "      <td>0</td>\n",
       "      <td>0</td>\n",
       "      <td>0</td>\n",
       "      <td>...</td>\n",
       "      <td>36.0</td>\n",
       "      <td>9.0</td>\n",
       "      <td>10.0</td>\n",
       "      <td>27.0</td>\n",
       "      <td>25.0</td>\n",
       "      <td>8.0</td>\n",
       "      <td>3.0</td>\n",
       "      <td>2.0</td>\n",
       "      <td>0.0</td>\n",
       "      <td>1</td>\n",
       "    </tr>\n",
       "  </tbody>\n",
       "</table>\n",
       "<p>5 rows × 613 columns</p>\n",
       "</div>"
      ],
      "text/plain": [
       "    age  n_null  dac_y  dac_m  dac_d  dac_wn  dac_w_0  dac_w_1  dac_w_2  \\\n",
       "0  53.0       2   2014      2      7       6        0        0        0   \n",
       "1  30.0       2   2014      3     17      12        1        0        0   \n",
       "2  40.0       3   2014      6     27      26        0        0        0   \n",
       "3  23.0       0   2014      5      2      18        0        0        0   \n",
       "4  19.0       1   2014      6      2      23        1        0        0   \n",
       "\n",
       "   dac_w_3    ...     c_448  c_449  c_450  c_451  c_452  c_453  c_454  c_455  \\\n",
       "0        0    ...       2.0    2.0    0.0    1.0    1.0    0.0    0.0    0.0   \n",
       "1        0    ...       6.0   12.0    4.0    5.0    2.0    1.0    0.0    0.0   \n",
       "2        0    ...       7.0    9.0    5.0   15.0   20.0    3.0    0.0    1.0   \n",
       "3        0    ...       7.0    4.0    3.0   18.0    6.0    2.0    3.0    0.0   \n",
       "4        0    ...      36.0    9.0   10.0   27.0   25.0    8.0    3.0    2.0   \n",
       "\n",
       "   c_456  all_null  \n",
       "0    0.0         1  \n",
       "1    0.0         1  \n",
       "2    0.0         1  \n",
       "3    1.0         1  \n",
       "4    0.0         1  \n",
       "\n",
       "[5 rows x 613 columns]"
      ]
     },
     "execution_count": 4,
     "metadata": {},
     "output_type": "execute_result"
    }
   ],
   "source": [
    "X_all.head()"
   ]
  },
  {
   "cell_type": "markdown",
   "metadata": {},
   "source": [
    "<h3>Scale the Data</h3>\n",
    "\n",
    "To get a better result of SVM, I need to scale the data firstly:"
   ]
  },
  {
   "cell_type": "code",
   "execution_count": 5,
   "metadata": {
    "collapsed": false
   },
   "outputs": [],
   "source": [
    "scaler = MinMaxScaler()  # Default behavior is to scale to [0,1]\n",
    "X_all_scale = scaler.fit_transform(X_all)"
   ]
  },
  {
   "cell_type": "code",
   "execution_count": 6,
   "metadata": {
    "collapsed": false
   },
   "outputs": [
    {
     "data": {
      "text/html": [
       "<div>\n",
       "<table border=\"1\" class=\"dataframe\">\n",
       "  <thead>\n",
       "    <tr style=\"text-align: right;\">\n",
       "      <th></th>\n",
       "      <th>0</th>\n",
       "      <th>1</th>\n",
       "      <th>2</th>\n",
       "      <th>3</th>\n",
       "      <th>4</th>\n",
       "      <th>5</th>\n",
       "      <th>6</th>\n",
       "      <th>7</th>\n",
       "      <th>8</th>\n",
       "      <th>9</th>\n",
       "      <th>...</th>\n",
       "      <th>603</th>\n",
       "      <th>604</th>\n",
       "      <th>605</th>\n",
       "      <th>606</th>\n",
       "      <th>607</th>\n",
       "      <th>608</th>\n",
       "      <th>609</th>\n",
       "      <th>610</th>\n",
       "      <th>611</th>\n",
       "      <th>612</th>\n",
       "    </tr>\n",
       "  </thead>\n",
       "  <tbody>\n",
       "    <tr>\n",
       "      <th>0</th>\n",
       "      <td>0.458824</td>\n",
       "      <td>0.50</td>\n",
       "      <td>0.0</td>\n",
       "      <td>0.2</td>\n",
       "      <td>0.200000</td>\n",
       "      <td>0.192308</td>\n",
       "      <td>0.0</td>\n",
       "      <td>0.0</td>\n",
       "      <td>0.0</td>\n",
       "      <td>0.0</td>\n",
       "      <td>...</td>\n",
       "      <td>0.001333</td>\n",
       "      <td>0.002740</td>\n",
       "      <td>0.000000</td>\n",
       "      <td>0.003984</td>\n",
       "      <td>0.006289</td>\n",
       "      <td>0.000000</td>\n",
       "      <td>0.000000</td>\n",
       "      <td>0.000000</td>\n",
       "      <td>0.000</td>\n",
       "      <td>0.0</td>\n",
       "    </tr>\n",
       "    <tr>\n",
       "      <th>1</th>\n",
       "      <td>0.188235</td>\n",
       "      <td>0.50</td>\n",
       "      <td>0.0</td>\n",
       "      <td>0.4</td>\n",
       "      <td>0.533333</td>\n",
       "      <td>0.423077</td>\n",
       "      <td>1.0</td>\n",
       "      <td>0.0</td>\n",
       "      <td>0.0</td>\n",
       "      <td>0.0</td>\n",
       "      <td>...</td>\n",
       "      <td>0.004000</td>\n",
       "      <td>0.016438</td>\n",
       "      <td>0.013986</td>\n",
       "      <td>0.019920</td>\n",
       "      <td>0.012579</td>\n",
       "      <td>0.010526</td>\n",
       "      <td>0.000000</td>\n",
       "      <td>0.000000</td>\n",
       "      <td>0.000</td>\n",
       "      <td>0.0</td>\n",
       "    </tr>\n",
       "    <tr>\n",
       "      <th>2</th>\n",
       "      <td>0.305882</td>\n",
       "      <td>0.75</td>\n",
       "      <td>0.0</td>\n",
       "      <td>1.0</td>\n",
       "      <td>0.866667</td>\n",
       "      <td>0.961538</td>\n",
       "      <td>0.0</td>\n",
       "      <td>0.0</td>\n",
       "      <td>0.0</td>\n",
       "      <td>0.0</td>\n",
       "      <td>...</td>\n",
       "      <td>0.004667</td>\n",
       "      <td>0.012329</td>\n",
       "      <td>0.017483</td>\n",
       "      <td>0.059761</td>\n",
       "      <td>0.125786</td>\n",
       "      <td>0.031579</td>\n",
       "      <td>0.000000</td>\n",
       "      <td>0.071429</td>\n",
       "      <td>0.000</td>\n",
       "      <td>0.0</td>\n",
       "    </tr>\n",
       "    <tr>\n",
       "      <th>3</th>\n",
       "      <td>0.105882</td>\n",
       "      <td>0.00</td>\n",
       "      <td>0.0</td>\n",
       "      <td>0.8</td>\n",
       "      <td>0.033333</td>\n",
       "      <td>0.653846</td>\n",
       "      <td>0.0</td>\n",
       "      <td>0.0</td>\n",
       "      <td>0.0</td>\n",
       "      <td>0.0</td>\n",
       "      <td>...</td>\n",
       "      <td>0.004667</td>\n",
       "      <td>0.005479</td>\n",
       "      <td>0.010490</td>\n",
       "      <td>0.071713</td>\n",
       "      <td>0.037736</td>\n",
       "      <td>0.021053</td>\n",
       "      <td>0.071429</td>\n",
       "      <td>0.000000</td>\n",
       "      <td>0.125</td>\n",
       "      <td>0.0</td>\n",
       "    </tr>\n",
       "    <tr>\n",
       "      <th>4</th>\n",
       "      <td>0.058824</td>\n",
       "      <td>0.25</td>\n",
       "      <td>0.0</td>\n",
       "      <td>1.0</td>\n",
       "      <td>0.033333</td>\n",
       "      <td>0.846154</td>\n",
       "      <td>1.0</td>\n",
       "      <td>0.0</td>\n",
       "      <td>0.0</td>\n",
       "      <td>0.0</td>\n",
       "      <td>...</td>\n",
       "      <td>0.024000</td>\n",
       "      <td>0.012329</td>\n",
       "      <td>0.034965</td>\n",
       "      <td>0.107570</td>\n",
       "      <td>0.157233</td>\n",
       "      <td>0.084211</td>\n",
       "      <td>0.071429</td>\n",
       "      <td>0.142857</td>\n",
       "      <td>0.000</td>\n",
       "      <td>0.0</td>\n",
       "    </tr>\n",
       "  </tbody>\n",
       "</table>\n",
       "<p>5 rows × 613 columns</p>\n",
       "</div>"
      ],
      "text/plain": [
       "        0     1    2    3         4         5    6    7    8    9   ...   \\\n",
       "0  0.458824  0.50  0.0  0.2  0.200000  0.192308  0.0  0.0  0.0  0.0 ...    \n",
       "1  0.188235  0.50  0.0  0.4  0.533333  0.423077  1.0  0.0  0.0  0.0 ...    \n",
       "2  0.305882  0.75  0.0  1.0  0.866667  0.961538  0.0  0.0  0.0  0.0 ...    \n",
       "3  0.105882  0.00  0.0  0.8  0.033333  0.653846  0.0  0.0  0.0  0.0 ...    \n",
       "4  0.058824  0.25  0.0  1.0  0.033333  0.846154  1.0  0.0  0.0  0.0 ...    \n",
       "\n",
       "        603       604       605       606       607       608       609  \\\n",
       "0  0.001333  0.002740  0.000000  0.003984  0.006289  0.000000  0.000000   \n",
       "1  0.004000  0.016438  0.013986  0.019920  0.012579  0.010526  0.000000   \n",
       "2  0.004667  0.012329  0.017483  0.059761  0.125786  0.031579  0.000000   \n",
       "3  0.004667  0.005479  0.010490  0.071713  0.037736  0.021053  0.071429   \n",
       "4  0.024000  0.012329  0.034965  0.107570  0.157233  0.084211  0.071429   \n",
       "\n",
       "        610    611  612  \n",
       "0  0.000000  0.000  0.0  \n",
       "1  0.000000  0.000  0.0  \n",
       "2  0.071429  0.000  0.0  \n",
       "3  0.000000  0.125  0.0  \n",
       "4  0.142857  0.000  0.0  \n",
       "\n",
       "[5 rows x 613 columns]"
      ]
     },
     "execution_count": 6,
     "metadata": {},
     "output_type": "execute_result"
    }
   ],
   "source": [
    "pd.DataFrame(X_all_scale).head()"
   ]
  },
  {
   "cell_type": "markdown",
   "metadata": {},
   "source": [
    "<h3>Dimension Reduction: PCA</h3>\n",
    "\n",
    "Apply the PCA and contain 40 components:"
   ]
  },
  {
   "cell_type": "code",
   "execution_count": 7,
   "metadata": {
    "collapsed": true
   },
   "outputs": [],
   "source": [
    "pca = PCA(n_components=40)"
   ]
  },
  {
   "cell_type": "code",
   "execution_count": 8,
   "metadata": {
    "collapsed": true
   },
   "outputs": [],
   "source": [
    "xpca=pca.fit(X_all_scale)"
   ]
  },
  {
   "cell_type": "code",
   "execution_count": 9,
   "metadata": {
    "collapsed": false
   },
   "outputs": [
    {
     "data": {
      "text/plain": [
       "array([ 0.12109741,  0.06870032,  0.06422948,  0.05838546,  0.0456549 ,\n",
       "        0.03777014,  0.03314486,  0.03230981,  0.03179289,  0.03024979,\n",
       "        0.02737135,  0.02616576,  0.02558407,  0.02467682,  0.02430823,\n",
       "        0.02244883,  0.02003181,  0.01813179,  0.01799536,  0.01740869,\n",
       "        0.01653534,  0.01396099,  0.01355617,  0.01288098,  0.01214041,\n",
       "        0.01120525,  0.01074669,  0.00976618,  0.00878398,  0.00796937,\n",
       "        0.0079218 ,  0.00748316,  0.00698794,  0.00546649,  0.00530238,\n",
       "        0.00507576,  0.00461981,  0.00449147,  0.0043452 ,  0.00406332])"
      ]
     },
     "execution_count": 9,
     "metadata": {},
     "output_type": "execute_result"
    }
   ],
   "source": [
    "xpca.explained_variance_ratio_"
   ]
  },
  {
   "cell_type": "code",
   "execution_count": 10,
   "metadata": {
    "collapsed": false
   },
   "outputs": [
    {
     "data": {
      "text/plain": [
       "0.92076044934931722"
      ]
     },
     "execution_count": 10,
     "metadata": {},
     "output_type": "execute_result"
    }
   ],
   "source": [
    "sum(xpca.explained_variance_ratio_)"
   ]
  },
  {
   "cell_type": "markdown",
   "metadata": {},
   "source": [
    "These 40 components explain 92% variance of the 613 features."
   ]
  },
  {
   "cell_type": "code",
   "execution_count": 11,
   "metadata": {
    "collapsed": false
   },
   "outputs": [
    {
     "data": {
      "text/plain": [
       "(40L, 613L)"
      ]
     },
     "execution_count": 11,
     "metadata": {},
     "output_type": "execute_result"
    }
   ],
   "source": [
    "xpca.components_.shape"
   ]
  },
  {
   "cell_type": "code",
   "execution_count": 12,
   "metadata": {
    "collapsed": false
   },
   "outputs": [],
   "source": [
    "X_all_scale_40 = xpca.fit_transform(X_all_scale)"
   ]
  },
  {
   "cell_type": "code",
   "execution_count": 13,
   "metadata": {
    "collapsed": false
   },
   "outputs": [],
   "source": [
    "#The first 59052 records of the data are from X_train and the others are from X_test.\n",
    "X_train_40 = X_all_scale_40[:59052,:]\n",
    "X_test_40 = X_all_scale_40[59052:,:]"
   ]
  },
  {
   "cell_type": "markdown",
   "metadata": {},
   "source": [
    "<h3>Tune Parameters"
   ]
  },
  {
   "cell_type": "markdown",
   "metadata": {},
   "source": [
    "First I try the linear kernel:"
   ]
  },
  {
   "cell_type": "code",
   "execution_count": 14,
   "metadata": {
    "collapsed": true
   },
   "outputs": [],
   "source": [
    "C_range = np.logspace(-2, 1, 4)"
   ]
  },
  {
   "cell_type": "code",
   "execution_count": 15,
   "metadata": {
    "collapsed": false
   },
   "outputs": [
    {
     "data": {
      "text/plain": [
       "array([  0.01,   0.1 ,   1.  ,  10.  ])"
      ]
     },
     "execution_count": 15,
     "metadata": {},
     "output_type": "execute_result"
    }
   ],
   "source": [
    "C_range"
   ]
  },
  {
   "cell_type": "markdown",
   "metadata": {},
   "source": [
    "To select the best C, I split the X_train into 80% training set and 20% testing set, because the algorithm is quite computational expensive, we give up the 5-fold cross-validation."
   ]
  },
  {
   "cell_type": "code",
   "execution_count": 16,
   "metadata": {
    "collapsed": false
   },
   "outputs": [],
   "source": [
    "X_train_40_tr,X_train_40_te, y_train_tr, y_train_te = train_test_split(X_train_40, y_train, test_size=0.2)"
   ]
  },
  {
   "cell_type": "markdown",
   "metadata": {},
   "source": [
    "Use two lists to record the running time and accuracy of every parameter:"
   ]
  },
  {
   "cell_type": "code",
   "execution_count": 17,
   "metadata": {
    "collapsed": true
   },
   "outputs": [],
   "source": [
    "t=[]"
   ]
  },
  {
   "cell_type": "code",
   "execution_count": 18,
   "metadata": {
    "collapsed": true
   },
   "outputs": [],
   "source": [
    "accuracy=[]"
   ]
  },
  {
   "cell_type": "code",
   "execution_count": null,
   "metadata": {
    "collapsed": false
   },
   "outputs": [],
   "source": [
    "#Done by Pearson Server, Do not run here\n",
    "for i in C_range:\n",
    "    start = timeit.default_timer()\n",
    "    model=SVC(probability=True,kernel='linear',C=i).fit(X_train_40_tr,y_train_tr)\n",
    "    s = model.score(X_train_40_te,y_train_te) \n",
    "    stop = timeit.default_timer()\n",
    "    accuracy.append(s)\n",
    "    t.append(stop-start)\n",
    "\n",
    "print t,acuuracy"
   ]
  },
  {
   "cell_type": "markdown",
   "metadata": {},
   "source": [
    "These two sections code are ran on the Pearson Server of our department. The Output are shown below:\n",
    "\n",
    "C_range:[  0.01,   0.1 ,   1.  ,  10.  ]\n",
    "\n",
    "Run time:[1261.562604188919, 1276.0894711017609, 1933.6635119915009, 8707.89033293724] \n",
    "\n",
    "Accuracy:[0.66659892975682444, 0.66815687868319451, 0.66836008941272096, 0.66842782632256315]"
   ]
  },
  {
   "cell_type": "markdown",
   "metadata": {
    "collapsed": true
   },
   "source": [
    "We can see that when C=10, we get the highest accuracy. Compared with C=1, the accuracy just increases 0.01%, but the computing time is 4 times as before. To get a balance between the accuracy and computation time, we choose C=1."
   ]
  },
  {
   "cell_type": "markdown",
   "metadata": {},
   "source": [
    "I also try the RBF kernel:"
   ]
  },
  {
   "cell_type": "code",
   "execution_count": null,
   "metadata": {
    "collapsed": true
   },
   "outputs": [],
   "source": [
    "#Done by Pearson Server, Do not run here\n",
    "C_range = np.logspace(-1, 1, 3)\n",
    "gamma_range = np.logspace(-1, 1, 3)\n",
    "t=[]\n",
    "accuracy = []\n",
    "\n",
    "for i in C_range:\n",
    "    for g in gamma_range:\n",
    "        start = timeit.default_timer()\n",
    "        model=SVC(probability=True,C=i,gamma=g).fit(X_train_40_tr,y_train_tr)\n",
    "        s = model.score(X_train_40_te,y_train_te) \n",
    "        stop = timeit.default_timer()\n",
    "        ccuracy.append(s)\n",
    "        t.append(stop-start)"
   ]
  },
  {
   "cell_type": "markdown",
   "metadata": {},
   "source": [
    "The range of C is [0.1,1,10] and the range of gamma is [0.1,1,10]. There are 9 parameter combinations, but the algorithm total running time is around 48 hours on the Pearson server!! The detailed running time and accuracy is shown below:\n",
    "\n",
    "C=0.1, gamma=0.1, 0.672085619454, 3476.74795699\n",
    "\n",
    "C=0.1, gamma=1, 0.613357718621, 14040.9114749\n",
    "        \n",
    "C=0.1, gamma=10, 0.613357718621, 22559.1905379\n",
    "\n",
    "C=1, gamma=0.1, 0.6779109937, 4174.47541499\n",
    "\n",
    "C=1, gamma=1, 0.627379258958, 22305.0064909\n",
    "\n",
    "C=1, gamma=10, 0.612951297162 , 35749.3675549\n",
    "\n",
    "C=10, gamma=0.1, 0.6696470907 , 7493.57202816\n",
    "\n",
    "C=10, gamma=1, 0.6008263903, 26747.6731329\n",
    "\n",
    "C=10, gamma=10, 0.612070717334, 41409.5616031\n"
   ]
  },
  {
   "cell_type": "markdown",
   "metadata": {},
   "source": [
    "When C=1, gamma=0.1, we get the highest accuracy: 0.6779109937, 1% higher than the linear kernel SVM. However, the running time of RBF SVM is generally longer than the linear kernel SVM. When the C and gamma increase, the running time increases. "
   ]
  },
  {
   "cell_type": "markdown",
   "metadata": {},
   "source": [
    "<h3>Fit the model"
   ]
  },
  {
   "cell_type": "markdown",
   "metadata": {},
   "source": [
    "To save time, I only fit the linear kernel SVM model using my own laptop."
   ]
  },
  {
   "cell_type": "code",
   "execution_count": 19,
   "metadata": {
    "collapsed": false
   },
   "outputs": [],
   "source": [
    "model=SVC(probability=True,kernel='linear').fit(X_train_40,np.ravel(y_train))"
   ]
  },
  {
   "cell_type": "code",
   "execution_count": 20,
   "metadata": {
    "collapsed": false
   },
   "outputs": [
    {
     "data": {
      "text/plain": [
       "0.66917293233082709"
      ]
     },
     "execution_count": 20,
     "metadata": {},
     "output_type": "execute_result"
    }
   ],
   "source": [
    "#Accuracy\n",
    "model.score(X_test_40,y_test) "
   ]
  },
  {
   "cell_type": "code",
   "execution_count": 21,
   "metadata": {
    "collapsed": true
   },
   "outputs": [],
   "source": [
    "#Predict\n",
    "pred = model.predict(X_test_40)"
   ]
  },
  {
   "cell_type": "code",
   "execution_count": 22,
   "metadata": {
    "collapsed": false
   },
   "outputs": [
    {
     "data": {
      "text/plain": [
       "array([[   0,    0,    0,    0,    0,    0,    0,   21,    0,    0,    5,\n",
       "           0],\n",
       "       [   0,    0,    0,    0,    0,    0,    0,   59,    0,    0,   36,\n",
       "           0],\n",
       "       [   0,    0,    0,    0,    0,    0,    0,   33,    0,    0,   12,\n",
       "           0],\n",
       "       [   0,    0,    0,    0,    0,    0,    0,  100,    0,    0,   32,\n",
       "           0],\n",
       "       [   0,    0,    0,    0,    0,    0,    0,  213,    0,    0,   72,\n",
       "           0],\n",
       "       [   0,    0,    0,    0,    0,    0,    0,  106,    0,    0,   40,\n",
       "           0],\n",
       "       [   0,    0,    0,    0,    0,    0,    0,  123,    0,    0,   53,\n",
       "           0],\n",
       "       [   0,    0,    0,    0,    0,    0,    0, 8682,    0,    0,  401,\n",
       "           0],\n",
       "       [   0,    0,    0,    0,    0,    0,    0,   28,    0,    0,    8,\n",
       "           0],\n",
       "       [   0,    0,    0,    0,    0,    0,    0,    7,    0,    0,    9,\n",
       "           0],\n",
       "       [   0,    0,    0,    0,    0,    0,    0, 2801,    0,    0, 1197,\n",
       "           0],\n",
       "       [   0,    0,    0,    0,    0,    0,    0,  511,    0,    0,  214,\n",
       "           0]])"
      ]
     },
     "execution_count": 22,
     "metadata": {},
     "output_type": "execute_result"
    }
   ],
   "source": [
    "#Confusion matrix\n",
    "confusion_matrix(y_test,pred)"
   ]
  },
  {
   "cell_type": "code",
   "execution_count": 23,
   "metadata": {
    "collapsed": false
   },
   "outputs": [
    {
     "data": {
      "text/plain": [
       "array([[ 0.00325809,  0.00917217,  0.00523402, ...,  0.00194821,\n",
       "         0.55679059,  0.06269863],\n",
       "       [ 0.00214645,  0.00567827,  0.00348388, ...,  0.00112794,\n",
       "         0.17329327,  0.04401963],\n",
       "       [ 0.00201509,  0.00529301,  0.00291878, ...,  0.00106795,\n",
       "         0.18213426,  0.04942236],\n",
       "       ..., \n",
       "       [ 0.00183606,  0.00495861,  0.00266822, ...,  0.00100542,\n",
       "         0.14364691,  0.04295937],\n",
       "       [ 0.00201937,  0.00510812,  0.00313049, ...,  0.00104826,\n",
       "         0.20299429,  0.04346882],\n",
       "       [ 0.00456715,  0.01006415,  0.00615312, ...,  0.00289322,\n",
       "         0.70194536,  0.07072158]])"
      ]
     },
     "execution_count": 23,
     "metadata": {},
     "output_type": "execute_result"
    }
   ],
   "source": [
    "#Probability\n",
    "model.predict_proba(X_test_40)"
   ]
  },
  {
   "cell_type": "code",
   "execution_count": 24,
   "metadata": {
    "collapsed": true
   },
   "outputs": [],
   "source": [
    "pred_proba =  model.predict_proba(X_test_40)"
   ]
  },
  {
   "cell_type": "code",
   "execution_count": 25,
   "metadata": {
    "collapsed": true
   },
   "outputs": [],
   "source": [
    "np.savetxt('pred__prob_svm.csv',pred_proba,delimiter=\",\")"
   ]
  },
  {
   "cell_type": "code",
   "execution_count": 26,
   "metadata": {
    "collapsed": false
   },
   "outputs": [],
   "source": [
    "np.savetxt('pred_svm.csv',pred,delimiter=\",\")"
   ]
  },
  {
   "cell_type": "markdown",
   "metadata": {},
   "source": [
    "Based on the confusion matrix, all of the samples are predicted to be 7th category: NDF or 10th category: US, the two dominant categories. The result is what we can expect, as the data is imbalanced.The NDF makes around 61% of the testing set, and the result is just a little bit better than randomly guessing."
   ]
  },
  {
   "cell_type": "code",
   "execution_count": 70,
   "metadata": {
    "collapsed": false
   },
   "outputs": [],
   "source": [
    "#ROC and PR Curve of NDF Category\n",
    "y_7_test = np.ravel(y_test)==7\n",
    "prob_test = model.predict_proba(X_test_40)\n",
    "fpr, tpr,_ = roc_curve(y_7_test,prob_test[:,7])\n",
    "precision, recall, _ = precision_recall_curve(y_7_test,prob_test[:,7])"
   ]
  },
  {
   "cell_type": "code",
   "execution_count": 67,
   "metadata": {
    "collapsed": true
   },
   "outputs": [],
   "source": [
    "#ROC and PR Curve of US Category\n",
    "y_10_test = np.ravel(y_test)==10\n",
    "fpr_1, tpr_1,_ = roc_curve(y_10_test,prob_test[:,10])\n",
    "precision_1, recall_1, _ = precision_recall_curve(y_10_test,prob_test[:,10])"
   ]
  },
  {
   "cell_type": "code",
   "execution_count": 81,
   "metadata": {
    "collapsed": false
   },
   "outputs": [
    {
     "data": {
      "image/png": "[encoded data removed]",
      "text/plain": [
       "<matplotlib.figure.Figure at 0x1b0e29b0>"
      ]
     },
     "metadata": {},
     "output_type": "display_data"
    }
   ],
   "source": [
    "#ROC Curve\n",
    "auc_1=auc(fpr,tpr)\n",
    "auc_2=auc(fpr_1,tpr_1)\n",
    "plt.figure()\n",
    "lw = 2\n",
    "plt.plot(fpr, tpr, color='darkorange',\n",
    "         lw=lw, label='SVM:NDF Category(area = %0.3f)' % auc_1)\n",
    "plt.plot(fpr_1, tpr_1,\n",
    "         lw=lw, label='SVM:US Category(area = %0.3f)' % auc_2)\n",
    "plt.plot([0, 1], [0, 1], color='navy', lw=lw, linestyle='--')\n",
    "plt.xlim([0.0, 1.0])\n",
    "plt.ylim([0.0, 1.05])\n",
    "plt.xlabel('False Positive Rate')\n",
    "plt.ylabel('True Positive Rate')\n",
    "plt.title('ROC Curve of NDF and US Category')\n",
    "plt.legend(loc=\"lower right\")\n",
    "plt.show()"
   ]
  },
  {
   "cell_type": "code",
   "execution_count": 84,
   "metadata": {
    "collapsed": false
   },
   "outputs": [
    {
     "data": {
      "image/png": "[encoded data removed]",
      "text/plain": [
       "<matplotlib.figure.Figure at 0x152bd2e8>"
      ]
     },
     "metadata": {},
     "output_type": "display_data"
    }
   ],
   "source": [
    "#PR Curve\n",
    "plt.figure()\n",
    "lw = 2\n",
    "plt.plot(recall, precision, color='darkorange',\n",
    "         lw=lw, label='SVM:NDF Category')\n",
    "plt.plot(recall_1, precision_1,\n",
    "         lw=lw, label='SVM:US Category')\n",
    "plt.xlim([0.0, 1.0])\n",
    "plt.ylim([0.0, 1.05])\n",
    "plt.xlabel('Recall')\n",
    "plt.ylabel('Precision')\n",
    "plt.title('PR Curve of NDF and US Category')\n",
    "plt.legend(loc=\"lower left\")\n",
    "plt.show()"
   ]
  }
 ],
 "metadata": {
  "anaconda-cloud": {},
  "kernelspec": {
   "display_name": "Python 2",
   "language": "python",
   "name": "python2"
  },
  "language_info": {
   "codemirror_mode": {
    "name": "ipython",
    "version": 2
   },
   "file_extension": ".py",
   "mimetype": "text/x-python",
   "name": "python",
   "nbconvert_exporter": "python",
   "pygments_lexer": "ipython2",
   "version": "2.7.13"
  }
 },
 "nbformat": 4,
 "nbformat_minor": 1
}
